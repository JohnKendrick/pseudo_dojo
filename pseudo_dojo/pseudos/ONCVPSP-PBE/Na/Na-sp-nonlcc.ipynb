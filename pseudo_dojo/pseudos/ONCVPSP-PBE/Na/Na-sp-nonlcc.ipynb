{
 "metadata": {},
 "nbformat": 3,
 "nbformat_minor": 0,
 "worksheets": [
  {
   "cells": [
    {
     "cell_type": "markdown",
     "metadata": {},
     "source": [
      "This is an auto-generated notebook."
     ]
    },
    {
     "cell_type": "code",
     "collapsed": false,
     "input": [
      "from __future__ import print_function\n",
      "import mpld3\n",
      "mpld3.enable_notebook()\n",
      "import seaborn as sns\n",
      "#sns.set(style=\"dark\", palette=\"Set2\")\n",
      "sns.set(style='ticks', palette='Set2')\n"
     ],
     "language": "python",
     "metadata": {},
     "outputs": []
    },
    {
     "cell_type": "code",
     "collapsed": false,
     "input": [
      "# Construct the pseudo object and get the DojoReport\n",
      "from pymatgen.io.abinitio.pseudos import Pseudo\n",
      "pseudo = Pseudo.from_file('Na-sp-nonlcc.psp8')\n",
      "report = pseudo.dojo_report\n"
     ],
     "language": "python",
     "metadata": {},
     "outputs": []
    },
    {
     "cell_type": "code",
     "collapsed": false,
     "input": [
      "# Show the input file used to generate the pseudo\n",
      "input_file = pseudo.filepath.replace(\".psp8\", \".in\")\n",
      "with open(input_file, \"rt\") as fh:\n",
      "    for line in fh: print(line, end=\"\")\n"
     ],
     "language": "python",
     "metadata": {},
     "outputs": []
    },
    {
     "cell_type": "code",
     "collapsed": false,
     "input": [
      "# Get data from the output file\n",
      "from pseudo_dojo.ppcodes.oncvpsp import OncvOutputParser, PseudoGenDataPlotter\n",
      "onc_parser = OncvOutputParser(pseudo.filepath.replace(\".psp8\", \".out\"))\n",
      "# Parse the file and fuild the plotter\n",
      "onc_parser.scan()\n",
      "plotter = onc_parser.make_plotter()\n"
     ],
     "language": "python",
     "metadata": {},
     "outputs": []
    },
    {
     "cell_type": "code",
     "collapsed": false,
     "input": [
      "# AE/PS radial wavefunctions.\n",
      "plotter.plot_radial_wfs(show=False)\n"
     ],
     "language": "python",
     "metadata": {},
     "outputs": []
    },
    {
     "cell_type": "code",
     "collapsed": false,
     "input": [
      "# Arctan of the logarithmic derivatives.\n",
      "plotter.plot_atan_logders(show=False)\n"
     ],
     "language": "python",
     "metadata": {},
     "outputs": []
    },
    {
     "cell_type": "code",
     "collapsed": false,
     "input": [
      "# Convergence in G-space computed by the ONCVPSP generator.\n",
      "plotter.plot_ene_vs_ecut(show=False)\n"
     ],
     "language": "python",
     "metadata": {},
     "outputs": []
    },
    {
     "cell_type": "code",
     "collapsed": false,
     "input": [
      "# Projectors.\n",
      "plotter.plot_projectors(show=False)\n"
     ],
     "language": "python",
     "metadata": {},
     "outputs": []
    },
    {
     "cell_type": "code",
     "collapsed": false,
     "input": [
      "# Core/Valence/Model charge densities.\n",
      "plotter.plot_densities(show=False)\n"
     ],
     "language": "python",
     "metadata": {},
     "outputs": []
    },
    {
     "cell_type": "code",
     "collapsed": false,
     "input": [
      "# Local potential and l-dependent potentials.\n",
      "plotter.plot_potentials(show=False)\n"
     ],
     "language": "python",
     "metadata": {},
     "outputs": []
    },
    {
     "cell_type": "code",
     "collapsed": false,
     "input": [
      "# 1-st derivatives of vl and vloc computed via finite differences.\n",
      "plotter.plot_der_potentials(show=False)\n"
     ],
     "language": "python",
     "metadata": {},
     "outputs": []
    },
    {
     "cell_type": "code",
     "collapsed": false,
     "input": [
      "# Convergence of the total energy (computed from the deltafactor runs with WIEN2K equilibrium volume)\n",
      "report.plot_etotal_vs_ecut(show=False)\n"
     ],
     "language": "python",
     "metadata": {},
     "outputs": []
    },
    {
     "cell_type": "code",
     "collapsed": false,
     "input": [
      "# EOS for the different cutoff energies.\n",
      "report.plot_deltafactor_eos(show=False)\n"
     ],
     "language": "python",
     "metadata": {},
     "outputs": []
    },
    {
     "cell_type": "code",
     "collapsed": false,
     "input": [
      "# Convergence of the deltafactor results\n",
      "report.plot_deltafactor_convergence(what=(\"dfact_meV\", \"dfactprime_meV\"), show=False)\n"
     ],
     "language": "python",
     "metadata": {},
     "outputs": []
    },
    {
     "cell_type": "code",
     "collapsed": false,
     "input": [
      "# Convergence of \\Delta v0, \\Delta b0, and \\Delta b1 (deltafactor tests)\n",
      "# Here we plot the difference wrt Wien2k results.\n",
      "report.plot_deltafactor_convergence(what=(\"-dfact_meV\", \"-dfactprime_meV\"), show=False)\n"
     ],
     "language": "python",
     "metadata": {},
     "outputs": []
    },
    {
     "cell_type": "code",
     "collapsed": false,
     "input": [
      "# Convergence of the GBRV lattice parameters.\n",
      "report.plot_gbrv_convergence(show=False)\n"
     ],
     "language": "python",
     "metadata": {},
     "outputs": []
    }
   ],
   "metadata": {}
  }
 ]
}