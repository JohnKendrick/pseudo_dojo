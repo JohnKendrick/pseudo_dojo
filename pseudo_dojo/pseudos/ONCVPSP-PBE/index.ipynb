{
 "metadata": {
  "name": "",
  "signature": "sha256:9f2bf680111927c3c68291d22f066e23af042630cb5de04cd4c1e7dabc093ba6"
 },
 "nbformat": 3,
 "nbformat_minor": 0,
 "worksheets": [
  {
   "cells": [
    {
     "cell_type": "code",
     "collapsed": false,
     "input": [
      "%run list_pyfiles.ipy"
     ],
     "language": "python",
     "metadata": {},
     "outputs": [
      {
       "html": [
        "<a href='__init__.py' target='_blank'>__init__.py</a><br>"
       ],
       "metadata": {},
       "output_type": "display_data",
       "text": [
        "/Users/gmatteo/Coding/git_branches/pseudo_dojo/pseudo_dojo/pseudos/ONCVPSP-PBE/__init__.py"
       ]
      },
      {
       "html": [
        "<a href='df.py' target='_blank'>df.py</a><br>"
       ],
       "metadata": {},
       "output_type": "display_data",
       "text": [
        "/Users/gmatteo/Coding/git_branches/pseudo_dojo/pseudo_dojo/pseudos/ONCVPSP-PBE/df.py"
       ]
      },
      {
       "html": [
        "<a href='fixpseudos.py' target='_blank'>fixpseudos.py</a><br>"
       ],
       "metadata": {},
       "output_type": "display_data",
       "text": [
        "/Users/gmatteo/Coding/git_branches/pseudo_dojo/pseudo_dojo/pseudos/ONCVPSP-PBE/fixpseudos.py"
       ]
      },
      {
       "html": [
        "<a href='oncvgui.py' target='_blank'>oncvgui.py</a><br>"
       ],
       "metadata": {},
       "output_type": "display_data",
       "text": [
        "/Users/gmatteo/Coding/git_branches/pseudo_dojo/pseudo_dojo/pseudos/ONCVPSP-PBE/oncvgui.py"
       ]
      },
      {
       "html": [
        "<a href='periodictable.py' target='_blank'>periodictable.py</a><br>"
       ],
       "metadata": {},
       "output_type": "display_data",
       "text": [
        "/Users/gmatteo/Coding/git_branches/pseudo_dojo/pseudo_dojo/pseudos/ONCVPSP-PBE/periodictable.py"
       ]
      }
     ],
     "prompt_number": 3
    },
    {
     "cell_type": "code",
     "collapsed": false,
     "input": [
      "%run list_notebooks.ipy"
     ],
     "language": "python",
     "metadata": {},
     "outputs": [
      {
       "html": [
        "<a href='V/V-sp.ipynb' target='_blank'>V/V-sp.ipynb</a><br>"
       ],
       "metadata": {},
       "output_type": "display_data",
       "text": [
        "/Users/gmatteo/Coding/git_branches/pseudo_dojo/pseudo_dojo/pseudos/ONCVPSP-PBE/V/V-sp.ipynb"
       ]
      }
     ],
     "prompt_number": 2
    },
    {
     "cell_type": "code",
     "collapsed": false,
     "input": [],
     "language": "python",
     "metadata": {},
     "outputs": [],
     "prompt_number": 1
    },
    {
     "cell_type": "code",
     "collapsed": false,
     "input": [],
     "language": "python",
     "metadata": {},
     "outputs": []
    }
   ],
   "metadata": {}
  }
 ]
}