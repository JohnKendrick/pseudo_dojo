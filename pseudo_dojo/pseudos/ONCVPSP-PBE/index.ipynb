{
 "metadata": {
  "name": "",
  "signature": "sha256:a4e1d95e421ed90c71d66494f3ae5266fe853e553d5a1157852b114a0353e315"
 },
 "nbformat": 3,
 "nbformat_minor": 0,
 "worksheets": [
  {
   "cells": [
    {
     "cell_type": "code",
     "collapsed": false,
     "input": [
      "%run list_pyfiles.ipy"
     ],
     "language": "python",
     "metadata": {},
     "outputs": [
      {
       "html": [
        "<a href='__init__.py' target='_blank'>__init__.py</a><br>"
       ],
       "metadata": {},
       "output_type": "display_data",
       "text": [
        "/Users/gmatteo/Coding/git_branches/pseudo_dojo/pseudo_dojo/pseudos/ONCVPSP-PBE/__init__.py"
       ]
      },
      {
       "html": [
        "<a href='df.py' target='_blank'>df.py</a><br>"
       ],
       "metadata": {},
       "output_type": "display_data",
       "text": [
        "/Users/gmatteo/Coding/git_branches/pseudo_dojo/pseudo_dojo/pseudos/ONCVPSP-PBE/df.py"
       ]
      },
      {
       "html": [
        "<a href='fixpseudos.py' target='_blank'>fixpseudos.py</a><br>"
       ],
       "metadata": {},
       "output_type": "display_data",
       "text": [
        "/Users/gmatteo/Coding/git_branches/pseudo_dojo/pseudo_dojo/pseudos/ONCVPSP-PBE/fixpseudos.py"
       ]
      },
      {
       "html": [
        "<a href='oncvgui.py' target='_blank'>oncvgui.py</a><br>"
       ],
       "metadata": {},
       "output_type": "display_data",
       "text": [
        "/Users/gmatteo/Coding/git_branches/pseudo_dojo/pseudo_dojo/pseudos/ONCVPSP-PBE/oncvgui.py"
       ]
      },
      {
       "html": [
        "<a href='periodictable.py' target='_blank'>periodictable.py</a><br>"
       ],
       "metadata": {},
       "output_type": "display_data",
       "text": [
        "/Users/gmatteo/Coding/git_branches/pseudo_dojo/pseudo_dojo/pseudos/ONCVPSP-PBE/periodictable.py"
       ]
      }
     ],
     "prompt_number": 3
    },
    {
     "cell_type": "code",
     "collapsed": false,
     "input": [
      "%run list_notebooks.ipy"
     ],
     "language": "python",
     "metadata": {},
     "outputs": [
      {
       "html": [
        "<a href='Ag/Ag-sp.ipynb' target='_blank'>Ag/Ag-sp.ipynb</a><br>"
       ],
       "metadata": {},
       "output_type": "display_data",
       "text": [
        "/Users/gmatteo/Coding/git_branches/pseudo_dojo/pseudo_dojo/pseudos/ONCVPSP-PBE/Ag/Ag-sp.ipynb"
       ]
      },
      {
       "html": [
        "<a href='Ag/Ag.ipynb' target='_blank'>Ag/Ag.ipynb</a><br>"
       ],
       "metadata": {},
       "output_type": "display_data",
       "text": [
        "/Users/gmatteo/Coding/git_branches/pseudo_dojo/pseudo_dojo/pseudos/ONCVPSP-PBE/Ag/Ag.ipynb"
       ]
      },
      {
       "html": [
        "<a href='Al/Al-dloc.ipynb' target='_blank'>Al/Al-dloc.ipynb</a><br>"
       ],
       "metadata": {},
       "output_type": "display_data",
       "text": [
        "/Users/gmatteo/Coding/git_branches/pseudo_dojo/pseudo_dojo/pseudos/ONCVPSP-PBE/Al/Al-dloc.ipynb"
       ]
      },
      {
       "html": [
        "<a href='Al/Al.ipynb' target='_blank'>Al/Al.ipynb</a><br>"
       ],
       "metadata": {},
       "output_type": "display_data",
       "text": [
        "/Users/gmatteo/Coding/git_branches/pseudo_dojo/pseudo_dojo/pseudos/ONCVPSP-PBE/Al/Al.ipynb"
       ]
      },
      {
       "html": [
        "<a href='Ar/Ar.ipynb' target='_blank'>Ar/Ar.ipynb</a><br>"
       ],
       "metadata": {},
       "output_type": "display_data",
       "text": [
        "/Users/gmatteo/Coding/git_branches/pseudo_dojo/pseudo_dojo/pseudos/ONCVPSP-PBE/Ar/Ar.ipynb"
       ]
      },
      {
       "html": [
        "<a href='As/As-d.ipynb' target='_blank'>As/As-d.ipynb</a><br>"
       ],
       "metadata": {},
       "output_type": "display_data",
       "text": [
        "/Users/gmatteo/Coding/git_branches/pseudo_dojo/pseudo_dojo/pseudos/ONCVPSP-PBE/As/As-d.ipynb"
       ]
      },
      {
       "html": [
        "<a href='As/As.ipynb' target='_blank'>As/As.ipynb</a><br>"
       ],
       "metadata": {},
       "output_type": "display_data",
       "text": [
        "/Users/gmatteo/Coding/git_branches/pseudo_dojo/pseudo_dojo/pseudos/ONCVPSP-PBE/As/As.ipynb"
       ]
      },
      {
       "html": [
        "<a href='Au/Au-p.ipynb' target='_blank'>Au/Au-p.ipynb</a><br>"
       ],
       "metadata": {},
       "output_type": "display_data",
       "text": [
        "/Users/gmatteo/Coding/git_branches/pseudo_dojo/pseudo_dojo/pseudos/ONCVPSP-PBE/Au/Au-p.ipynb"
       ]
      },
      {
       "html": [
        "<a href='Au/Au-sp.ipynb' target='_blank'>Au/Au-sp.ipynb</a><br>"
       ],
       "metadata": {},
       "output_type": "display_data",
       "text": [
        "/Users/gmatteo/Coding/git_branches/pseudo_dojo/pseudo_dojo/pseudos/ONCVPSP-PBE/Au/Au-sp.ipynb"
       ]
      },
      {
       "html": [
        "<a href='B/B-dmax.ipynb' target='_blank'>B/B-dmax.ipynb</a><br>"
       ],
       "metadata": {},
       "output_type": "display_data",
       "text": [
        "/Users/gmatteo/Coding/git_branches/pseudo_dojo/pseudo_dojo/pseudos/ONCVPSP-PBE/B/B-dmax.ipynb"
       ]
      },
      {
       "html": [
        "<a href='B/B-low-dmax.ipynb' target='_blank'>B/B-low-dmax.ipynb</a><br>"
       ],
       "metadata": {},
       "output_type": "display_data",
       "text": [
        "/Users/gmatteo/Coding/git_branches/pseudo_dojo/pseudo_dojo/pseudos/ONCVPSP-PBE/B/B-low-dmax.ipynb"
       ]
      },
      {
       "html": [
        "<a href='B/B-low.ipynb' target='_blank'>B/B-low.ipynb</a><br>"
       ],
       "metadata": {},
       "output_type": "display_data",
       "text": [
        "/Users/gmatteo/Coding/git_branches/pseudo_dojo/pseudo_dojo/pseudos/ONCVPSP-PBE/B/B-low.ipynb"
       ]
      },
      {
       "html": [
        "<a href='B/B.ipynb' target='_blank'>B/B.ipynb</a><br>"
       ],
       "metadata": {},
       "output_type": "display_data",
       "text": [
        "/Users/gmatteo/Coding/git_branches/pseudo_dojo/pseudo_dojo/pseudos/ONCVPSP-PBE/B/B.ipynb"
       ]
      },
      {
       "html": [
        "<a href='Ba/Ba-sp.ipynb' target='_blank'>Ba/Ba-sp.ipynb</a><br>"
       ],
       "metadata": {},
       "output_type": "display_data",
       "text": [
        "/Users/gmatteo/Coding/git_branches/pseudo_dojo/pseudo_dojo/pseudos/ONCVPSP-PBE/Ba/Ba-sp.ipynb"
       ]
      },
      {
       "html": [
        "<a href='Be/Be-low.ipynb' target='_blank'>Be/Be-low.ipynb</a><br>"
       ],
       "metadata": {},
       "output_type": "display_data",
       "text": [
        "/Users/gmatteo/Coding/git_branches/pseudo_dojo/pseudo_dojo/pseudos/ONCVPSP-PBE/Be/Be-low.ipynb"
       ]
      },
      {
       "html": [
        "<a href='Be/Be-s-high.ipynb' target='_blank'>Be/Be-s-high.ipynb</a><br>"
       ],
       "metadata": {},
       "output_type": "display_data",
       "text": [
        "/Users/gmatteo/Coding/git_branches/pseudo_dojo/pseudo_dojo/pseudos/ONCVPSP-PBE/Be/Be-s-high.ipynb"
       ]
      },
      {
       "html": [
        "<a href='Be/Be-s.ipynb' target='_blank'>Be/Be-s.ipynb</a><br>"
       ],
       "metadata": {},
       "output_type": "display_data",
       "text": [
        "/Users/gmatteo/Coding/git_branches/pseudo_dojo/pseudo_dojo/pseudos/ONCVPSP-PBE/Be/Be-s.ipynb"
       ]
      },
      {
       "html": [
        "<a href='Bi/Bi-d.ipynb' target='_blank'>Bi/Bi-d.ipynb</a><br>"
       ],
       "metadata": {},
       "output_type": "display_data",
       "text": [
        "/Users/gmatteo/Coding/git_branches/pseudo_dojo/pseudo_dojo/pseudos/ONCVPSP-PBE/Bi/Bi-d.ipynb"
       ]
      },
      {
       "html": [
        "<a href='Br/Br-d.ipynb' target='_blank'>Br/Br-d.ipynb</a><br>"
       ],
       "metadata": {},
       "output_type": "display_data",
       "text": [
        "/Users/gmatteo/Coding/git_branches/pseudo_dojo/pseudo_dojo/pseudos/ONCVPSP-PBE/Br/Br-d.ipynb"
       ]
      },
      {
       "html": [
        "<a href='Br/Br.ipynb' target='_blank'>Br/Br.ipynb</a><br>"
       ],
       "metadata": {},
       "output_type": "display_data",
       "text": [
        "/Users/gmatteo/Coding/git_branches/pseudo_dojo/pseudo_dojo/pseudos/ONCVPSP-PBE/Br/Br.ipynb"
       ]
      },
      {
       "html": [
        "<a href='C/C-dmax.ipynb' target='_blank'>C/C-dmax.ipynb</a><br>"
       ],
       "metadata": {},
       "output_type": "display_data",
       "text": [
        "/Users/gmatteo/Coding/git_branches/pseudo_dojo/pseudo_dojo/pseudos/ONCVPSP-PBE/C/C-dmax.ipynb"
       ]
      },
      {
       "html": [
        "<a href='C/C-low-dmax.ipynb' target='_blank'>C/C-low-dmax.ipynb</a><br>"
       ],
       "metadata": {},
       "output_type": "display_data",
       "text": [
        "/Users/gmatteo/Coding/git_branches/pseudo_dojo/pseudo_dojo/pseudos/ONCVPSP-PBE/C/C-low-dmax.ipynb"
       ]
      },
      {
       "html": [
        "<a href='C/C-low.ipynb' target='_blank'>C/C-low.ipynb</a><br>"
       ],
       "metadata": {},
       "output_type": "display_data",
       "text": [
        "/Users/gmatteo/Coding/git_branches/pseudo_dojo/pseudo_dojo/pseudos/ONCVPSP-PBE/C/C-low.ipynb"
       ]
      },
      {
       "html": [
        "<a href='C/C.ipynb' target='_blank'>C/C.ipynb</a><br>"
       ],
       "metadata": {},
       "output_type": "display_data",
       "text": [
        "/Users/gmatteo/Coding/git_branches/pseudo_dojo/pseudo_dojo/pseudos/ONCVPSP-PBE/C/C.ipynb"
       ]
      },
      {
       "html": [
        "<a href='Ca/Ca-sp.ipynb' target='_blank'>Ca/Ca-sp.ipynb</a><br>"
       ],
       "metadata": {},
       "output_type": "display_data",
       "text": [
        "/Users/gmatteo/Coding/git_branches/pseudo_dojo/pseudo_dojo/pseudos/ONCVPSP-PBE/Ca/Ca-sp.ipynb"
       ]
      },
      {
       "html": [
        "<a href='Cd/Cd-sp.ipynb' target='_blank'>Cd/Cd-sp.ipynb</a><br>"
       ],
       "metadata": {},
       "output_type": "display_data",
       "text": [
        "/Users/gmatteo/Coding/git_branches/pseudo_dojo/pseudo_dojo/pseudos/ONCVPSP-PBE/Cd/Cd-sp.ipynb"
       ]
      },
      {
       "html": [
        "<a href='Cd/Cd.ipynb' target='_blank'>Cd/Cd.ipynb</a><br>"
       ],
       "metadata": {},
       "output_type": "display_data",
       "text": [
        "/Users/gmatteo/Coding/git_branches/pseudo_dojo/pseudo_dojo/pseudos/ONCVPSP-PBE/Cd/Cd.ipynb"
       ]
      },
      {
       "html": [
        "<a href='Cl/Cl.ipynb' target='_blank'>Cl/Cl.ipynb</a><br>"
       ],
       "metadata": {},
       "output_type": "display_data",
       "text": [
        "/Users/gmatteo/Coding/git_branches/pseudo_dojo/pseudo_dojo/pseudos/ONCVPSP-PBE/Cl/Cl.ipynb"
       ]
      },
      {
       "html": [
        "<a href='Co/Co-sp-ncon3.ipynb' target='_blank'>Co/Co-sp-ncon3.ipynb</a><br>"
       ],
       "metadata": {},
       "output_type": "display_data",
       "text": [
        "/Users/gmatteo/Coding/git_branches/pseudo_dojo/pseudo_dojo/pseudos/ONCVPSP-PBE/Co/Co-sp-ncon3.ipynb"
       ]
      },
      {
       "html": [
        "<a href='Co/Co-sp.ipynb' target='_blank'>Co/Co-sp.ipynb</a><br>"
       ],
       "metadata": {},
       "output_type": "display_data",
       "text": [
        "/Users/gmatteo/Coding/git_branches/pseudo_dojo/pseudo_dojo/pseudos/ONCVPSP-PBE/Co/Co-sp.ipynb"
       ]
      },
      {
       "html": [
        "<a href='Cr/Cr-sp-ncon3.ipynb' target='_blank'>Cr/Cr-sp-ncon3.ipynb</a><br>"
       ],
       "metadata": {},
       "output_type": "display_data",
       "text": [
        "/Users/gmatteo/Coding/git_branches/pseudo_dojo/pseudo_dojo/pseudos/ONCVPSP-PBE/Cr/Cr-sp-ncon3.ipynb"
       ]
      },
      {
       "html": [
        "<a href='Cr/Cr-sp.ipynb' target='_blank'>Cr/Cr-sp.ipynb</a><br>"
       ],
       "metadata": {},
       "output_type": "display_data",
       "text": [
        "/Users/gmatteo/Coding/git_branches/pseudo_dojo/pseudo_dojo/pseudos/ONCVPSP-PBE/Cr/Cr-sp.ipynb"
       ]
      },
      {
       "html": [
        "<a href='Cs/Cs-sp.ipynb' target='_blank'>Cs/Cs-sp.ipynb</a><br>"
       ],
       "metadata": {},
       "output_type": "display_data",
       "text": [
        "/Users/gmatteo/Coding/git_branches/pseudo_dojo/pseudo_dojo/pseudos/ONCVPSP-PBE/Cs/Cs-sp.ipynb"
       ]
      },
      {
       "html": [
        "<a href='Cu/Cu-sp.ipynb' target='_blank'>Cu/Cu-sp.ipynb</a><br>"
       ],
       "metadata": {},
       "output_type": "display_data",
       "text": [
        "/Users/gmatteo/Coding/git_branches/pseudo_dojo/pseudo_dojo/pseudos/ONCVPSP-PBE/Cu/Cu-sp.ipynb"
       ]
      },
      {
       "html": [
        "<a href='F/F-dmax.ipynb' target='_blank'>F/F-dmax.ipynb</a><br>"
       ],
       "metadata": {},
       "output_type": "display_data",
       "text": [
        "/Users/gmatteo/Coding/git_branches/pseudo_dojo/pseudo_dojo/pseudos/ONCVPSP-PBE/F/F-dmax.ipynb"
       ]
      },
      {
       "html": [
        "<a href='F/F-high-dmax.ipynb' target='_blank'>F/F-high-dmax.ipynb</a><br>"
       ],
       "metadata": {},
       "output_type": "display_data",
       "text": [
        "/Users/gmatteo/Coding/git_branches/pseudo_dojo/pseudo_dojo/pseudos/ONCVPSP-PBE/F/F-high-dmax.ipynb"
       ]
      },
      {
       "html": [
        "<a href='F/F-high.ipynb' target='_blank'>F/F-high.ipynb</a><br>"
       ],
       "metadata": {},
       "output_type": "display_data",
       "text": [
        "/Users/gmatteo/Coding/git_branches/pseudo_dojo/pseudo_dojo/pseudos/ONCVPSP-PBE/F/F-high.ipynb"
       ]
      },
      {
       "html": [
        "<a href='F/F.ipynb' target='_blank'>F/F.ipynb</a><br>"
       ],
       "metadata": {},
       "output_type": "display_data",
       "text": [
        "/Users/gmatteo/Coding/git_branches/pseudo_dojo/pseudo_dojo/pseudos/ONCVPSP-PBE/F/F.ipynb"
       ]
      },
      {
       "html": [
        "<a href='Fe/Fe-sp-high-ncon4.ipynb' target='_blank'>Fe/Fe-sp-high-ncon4.ipynb</a><br>"
       ],
       "metadata": {},
       "output_type": "display_data",
       "text": [
        "/Users/gmatteo/Coding/git_branches/pseudo_dojo/pseudo_dojo/pseudos/ONCVPSP-PBE/Fe/Fe-sp-high-ncon4.ipynb"
       ]
      },
      {
       "html": [
        "<a href='Fe/Fe-sp-high.ipynb' target='_blank'>Fe/Fe-sp-high.ipynb</a><br>"
       ],
       "metadata": {},
       "output_type": "display_data",
       "text": [
        "/Users/gmatteo/Coding/git_branches/pseudo_dojo/pseudo_dojo/pseudos/ONCVPSP-PBE/Fe/Fe-sp-high.ipynb"
       ]
      },
      {
       "html": [
        "<a href='Fe/Fe-sp.ipynb' target='_blank'>Fe/Fe-sp.ipynb</a><br>"
       ],
       "metadata": {},
       "output_type": "display_data",
       "text": [
        "/Users/gmatteo/Coding/git_branches/pseudo_dojo/pseudo_dojo/pseudos/ONCVPSP-PBE/Fe/Fe-sp.ipynb"
       ]
      },
      {
       "html": [
        "<a href='Ga/Ga-d.ipynb' target='_blank'>Ga/Ga-d.ipynb</a><br>"
       ],
       "metadata": {},
       "output_type": "display_data",
       "text": [
        "/Users/gmatteo/Coding/git_branches/pseudo_dojo/pseudo_dojo/pseudos/ONCVPSP-PBE/Ga/Ga-d.ipynb"
       ]
      },
      {
       "html": [
        "<a href='Ga/Ga-low.ipynb' target='_blank'>Ga/Ga-low.ipynb</a><br>"
       ],
       "metadata": {},
       "output_type": "display_data",
       "text": [
        "/Users/gmatteo/Coding/git_branches/pseudo_dojo/pseudo_dojo/pseudos/ONCVPSP-PBE/Ga/Ga-low.ipynb"
       ]
      },
      {
       "html": [
        "<a href='Ge/Ge-d.ipynb' target='_blank'>Ge/Ge-d.ipynb</a><br>"
       ],
       "metadata": {},
       "output_type": "display_data",
       "text": [
        "/Users/gmatteo/Coding/git_branches/pseudo_dojo/pseudo_dojo/pseudos/ONCVPSP-PBE/Ge/Ge-d.ipynb"
       ]
      },
      {
       "html": [
        "<a href='Ge/Ge-low.ipynb' target='_blank'>Ge/Ge-low.ipynb</a><br>"
       ],
       "metadata": {},
       "output_type": "display_data",
       "text": [
        "/Users/gmatteo/Coding/git_branches/pseudo_dojo/pseudo_dojo/pseudos/ONCVPSP-PBE/Ge/Ge-low.ipynb"
       ]
      },
      {
       "html": [
        "<a href='H/H-high.ipynb' target='_blank'>H/H-high.ipynb</a><br>"
       ],
       "metadata": {},
       "output_type": "display_data",
       "text": [
        "/Users/gmatteo/Coding/git_branches/pseudo_dojo/pseudo_dojo/pseudos/ONCVPSP-PBE/H/H-high.ipynb"
       ]
      },
      {
       "html": [
        "<a href='H/H-ploc-high.ipynb' target='_blank'>H/H-ploc-high.ipynb</a><br>"
       ],
       "metadata": {},
       "output_type": "display_data",
       "text": [
        "/Users/gmatteo/Coding/git_branches/pseudo_dojo/pseudo_dojo/pseudos/ONCVPSP-PBE/H/H-ploc-high.ipynb"
       ]
      },
      {
       "html": [
        "<a href='H/H-ploc.ipynb' target='_blank'>H/H-ploc.ipynb</a><br>"
       ],
       "metadata": {},
       "output_type": "display_data",
       "text": [
        "/Users/gmatteo/Coding/git_branches/pseudo_dojo/pseudo_dojo/pseudos/ONCVPSP-PBE/H/H-ploc.ipynb"
       ]
      },
      {
       "html": [
        "<a href='He/He-ploc.ipynb' target='_blank'>He/He-ploc.ipynb</a><br>"
       ],
       "metadata": {},
       "output_type": "display_data",
       "text": [
        "/Users/gmatteo/Coding/git_branches/pseudo_dojo/pseudo_dojo/pseudos/ONCVPSP-PBE/He/He-ploc.ipynb"
       ]
      },
      {
       "html": [
        "<a href='He/He.ipynb' target='_blank'>He/He.ipynb</a><br>"
       ],
       "metadata": {},
       "output_type": "display_data",
       "text": [
        "/Users/gmatteo/Coding/git_branches/pseudo_dojo/pseudo_dojo/pseudos/ONCVPSP-PBE/He/He.ipynb"
       ]
      },
      {
       "html": [
        "<a href='Hf/Hf-p.ipynb' target='_blank'>Hf/Hf-p.ipynb</a><br>"
       ],
       "metadata": {},
       "output_type": "display_data",
       "text": [
        "/Users/gmatteo/Coding/git_branches/pseudo_dojo/pseudo_dojo/pseudos/ONCVPSP-PBE/Hf/Hf-p.ipynb"
       ]
      },
      {
       "html": [
        "<a href='Hf/Hf-sp.ipynb' target='_blank'>Hf/Hf-sp.ipynb</a><br>"
       ],
       "metadata": {},
       "output_type": "display_data",
       "text": [
        "/Users/gmatteo/Coding/git_branches/pseudo_dojo/pseudo_dojo/pseudos/ONCVPSP-PBE/Hf/Hf-sp.ipynb"
       ]
      },
      {
       "html": [
        "<a href='Hf/Hf-spdf.ipynb' target='_blank'>Hf/Hf-spdf.ipynb</a><br>"
       ],
       "metadata": {},
       "output_type": "display_data",
       "text": [
        "/Users/gmatteo/Coding/git_branches/pseudo_dojo/pseudo_dojo/pseudos/ONCVPSP-PBE/Hf/Hf-spdf.ipynb"
       ]
      },
      {
       "html": [
        "<a href='Hg/Hg-sp.ipynb' target='_blank'>Hg/Hg-sp.ipynb</a><br>"
       ],
       "metadata": {},
       "output_type": "display_data",
       "text": [
        "/Users/gmatteo/Coding/git_branches/pseudo_dojo/pseudo_dojo/pseudos/ONCVPSP-PBE/Hg/Hg-sp.ipynb"
       ]
      },
      {
       "html": [
        "<a href='Hg/Hg.ipynb' target='_blank'>Hg/Hg.ipynb</a><br>"
       ],
       "metadata": {},
       "output_type": "display_data",
       "text": [
        "/Users/gmatteo/Coding/git_branches/pseudo_dojo/pseudo_dojo/pseudos/ONCVPSP-PBE/Hg/Hg.ipynb"
       ]
      },
      {
       "html": [
        "<a href='I/I-d.ipynb' target='_blank'>I/I-d.ipynb</a><br>"
       ],
       "metadata": {},
       "output_type": "display_data",
       "text": [
        "/Users/gmatteo/Coding/git_branches/pseudo_dojo/pseudo_dojo/pseudos/ONCVPSP-PBE/I/I-d.ipynb"
       ]
      },
      {
       "html": [
        "<a href='I/I.ipynb' target='_blank'>I/I.ipynb</a><br>"
       ],
       "metadata": {},
       "output_type": "display_data",
       "text": [
        "/Users/gmatteo/Coding/git_branches/pseudo_dojo/pseudo_dojo/pseudos/ONCVPSP-PBE/I/I.ipynb"
       ]
      },
      {
       "html": [
        "<a href='In/In-d.ipynb' target='_blank'>In/In-d.ipynb</a><br>"
       ],
       "metadata": {},
       "output_type": "display_data",
       "text": [
        "/Users/gmatteo/Coding/git_branches/pseudo_dojo/pseudo_dojo/pseudos/ONCVPSP-PBE/In/In-d.ipynb"
       ]
      },
      {
       "html": [
        "<a href='Ir/Ir-p.ipynb' target='_blank'>Ir/Ir-p.ipynb</a><br>"
       ],
       "metadata": {},
       "output_type": "display_data",
       "text": [
        "/Users/gmatteo/Coding/git_branches/pseudo_dojo/pseudo_dojo/pseudos/ONCVPSP-PBE/Ir/Ir-p.ipynb"
       ]
      },
      {
       "html": [
        "<a href='K/K-sp.ipynb' target='_blank'>K/K-sp.ipynb</a><br>"
       ],
       "metadata": {},
       "output_type": "display_data",
       "text": [
        "/Users/gmatteo/Coding/git_branches/pseudo_dojo/pseudo_dojo/pseudos/ONCVPSP-PBE/K/K-sp.ipynb"
       ]
      },
      {
       "html": [
        "<a href='Kr/Kr-d.ipynb' target='_blank'>Kr/Kr-d.ipynb</a><br>"
       ],
       "metadata": {},
       "output_type": "display_data",
       "text": [
        "/Users/gmatteo/Coding/git_branches/pseudo_dojo/pseudo_dojo/pseudos/ONCVPSP-PBE/Kr/Kr-d.ipynb"
       ]
      },
      {
       "html": [
        "<a href='Kr/Kr.ipynb' target='_blank'>Kr/Kr.ipynb</a><br>"
       ],
       "metadata": {},
       "output_type": "display_data",
       "text": [
        "/Users/gmatteo/Coding/git_branches/pseudo_dojo/pseudo_dojo/pseudos/ONCVPSP-PBE/Kr/Kr.ipynb"
       ]
      },
      {
       "html": [
        "<a href='Li/Li-s-high.ipynb' target='_blank'>Li/Li-s-high.ipynb</a><br>"
       ],
       "metadata": {},
       "output_type": "display_data",
       "text": [
        "/Users/gmatteo/Coding/git_branches/pseudo_dojo/pseudo_dojo/pseudos/ONCVPSP-PBE/Li/Li-s-high.ipynb"
       ]
      },
      {
       "html": [
        "<a href='Li/Li-s.ipynb' target='_blank'>Li/Li-s.ipynb</a><br>"
       ],
       "metadata": {},
       "output_type": "display_data",
       "text": [
        "/Users/gmatteo/Coding/git_branches/pseudo_dojo/pseudo_dojo/pseudos/ONCVPSP-PBE/Li/Li-s.ipynb"
       ]
      },
      {
       "html": [
        "<a href='Mg/Mg-sp-nonlcc.ipynb' target='_blank'>Mg/Mg-sp-nonlcc.ipynb</a><br>"
       ],
       "metadata": {},
       "output_type": "display_data",
       "text": [
        "/Users/gmatteo/Coding/git_branches/pseudo_dojo/pseudo_dojo/pseudos/ONCVPSP-PBE/Mg/Mg-sp-nonlcc.ipynb"
       ]
      },
      {
       "html": [
        "<a href='Mg/Mg-sp.ipynb' target='_blank'>Mg/Mg-sp.ipynb</a><br>"
       ],
       "metadata": {},
       "output_type": "display_data",
       "text": [
        "/Users/gmatteo/Coding/git_branches/pseudo_dojo/pseudo_dojo/pseudos/ONCVPSP-PBE/Mg/Mg-sp.ipynb"
       ]
      },
      {
       "html": [
        "<a href='Mg/Mg.ipynb' target='_blank'>Mg/Mg.ipynb</a><br>"
       ],
       "metadata": {},
       "output_type": "display_data",
       "text": [
        "/Users/gmatteo/Coding/git_branches/pseudo_dojo/pseudo_dojo/pseudos/ONCVPSP-PBE/Mg/Mg.ipynb"
       ]
      },
      {
       "html": [
        "<a href='Mn/Mn-sp.ipynb' target='_blank'>Mn/Mn-sp.ipynb</a><br>"
       ],
       "metadata": {},
       "output_type": "display_data",
       "text": [
        "/Users/gmatteo/Coding/git_branches/pseudo_dojo/pseudo_dojo/pseudos/ONCVPSP-PBE/Mn/Mn-sp.ipynb"
       ]
      },
      {
       "html": [
        "<a href='Mo/Mo-sp.ipynb' target='_blank'>Mo/Mo-sp.ipynb</a><br>"
       ],
       "metadata": {},
       "output_type": "display_data",
       "text": [
        "/Users/gmatteo/Coding/git_branches/pseudo_dojo/pseudo_dojo/pseudos/ONCVPSP-PBE/Mo/Mo-sp.ipynb"
       ]
      },
      {
       "html": [
        "<a href='N/N-dmax.ipynb' target='_blank'>N/N-dmax.ipynb</a><br>"
       ],
       "metadata": {},
       "output_type": "display_data",
       "text": [
        "/Users/gmatteo/Coding/git_branches/pseudo_dojo/pseudo_dojo/pseudos/ONCVPSP-PBE/N/N-dmax.ipynb"
       ]
      },
      {
       "html": [
        "<a href='N/N-low-dmax.ipynb' target='_blank'>N/N-low-dmax.ipynb</a><br>"
       ],
       "metadata": {},
       "output_type": "display_data",
       "text": [
        "/Users/gmatteo/Coding/git_branches/pseudo_dojo/pseudo_dojo/pseudos/ONCVPSP-PBE/N/N-low-dmax.ipynb"
       ]
      },
      {
       "html": [
        "<a href='N/N-low.ipynb' target='_blank'>N/N-low.ipynb</a><br>"
       ],
       "metadata": {},
       "output_type": "display_data",
       "text": [
        "/Users/gmatteo/Coding/git_branches/pseudo_dojo/pseudo_dojo/pseudos/ONCVPSP-PBE/N/N-low.ipynb"
       ]
      },
      {
       "html": [
        "<a href='N/N.ipynb' target='_blank'>N/N.ipynb</a><br>"
       ],
       "metadata": {},
       "output_type": "display_data",
       "text": [
        "/Users/gmatteo/Coding/git_branches/pseudo_dojo/pseudo_dojo/pseudos/ONCVPSP-PBE/N/N.ipynb"
       ]
      },
      {
       "html": [
        "<a href='Na/Na-sp-nonlcc.ipynb' target='_blank'>Na/Na-sp-nonlcc.ipynb</a><br>"
       ],
       "metadata": {},
       "output_type": "display_data",
       "text": [
        "/Users/gmatteo/Coding/git_branches/pseudo_dojo/pseudo_dojo/pseudos/ONCVPSP-PBE/Na/Na-sp-nonlcc.ipynb"
       ]
      },
      {
       "html": [
        "<a href='Na/Na-sp.ipynb' target='_blank'>Na/Na-sp.ipynb</a><br>"
       ],
       "metadata": {},
       "output_type": "display_data",
       "text": [
        "/Users/gmatteo/Coding/git_branches/pseudo_dojo/pseudo_dojo/pseudos/ONCVPSP-PBE/Na/Na-sp.ipynb"
       ]
      },
      {
       "html": [
        "<a href='Nb/Nb-sp.ipynb' target='_blank'>Nb/Nb-sp.ipynb</a><br>"
       ],
       "metadata": {},
       "output_type": "display_data",
       "text": [
        "/Users/gmatteo/Coding/git_branches/pseudo_dojo/pseudo_dojo/pseudos/ONCVPSP-PBE/Nb/Nb-sp.ipynb"
       ]
      },
      {
       "html": [
        "<a href='Ne/Ne-nonlcc.ipynb' target='_blank'>Ne/Ne-nonlcc.ipynb</a><br>"
       ],
       "metadata": {},
       "output_type": "display_data",
       "text": [
        "/Users/gmatteo/Coding/git_branches/pseudo_dojo/pseudo_dojo/pseudos/ONCVPSP-PBE/Ne/Ne-nonlcc.ipynb"
       ]
      },
      {
       "html": [
        "<a href='Ne/Ne.ipynb' target='_blank'>Ne/Ne.ipynb</a><br>"
       ],
       "metadata": {},
       "output_type": "display_data",
       "text": [
        "/Users/gmatteo/Coding/git_branches/pseudo_dojo/pseudo_dojo/pseudos/ONCVPSP-PBE/Ne/Ne.ipynb"
       ]
      },
      {
       "html": [
        "<a href='Ni/Ni-sp.ipynb' target='_blank'>Ni/Ni-sp.ipynb</a><br>"
       ],
       "metadata": {},
       "output_type": "display_data",
       "text": [
        "/Users/gmatteo/Coding/git_branches/pseudo_dojo/pseudo_dojo/pseudos/ONCVPSP-PBE/Ni/Ni-sp.ipynb"
       ]
      },
      {
       "html": [
        "<a href='O/O-dmax.ipynb' target='_blank'>O/O-dmax.ipynb</a><br>"
       ],
       "metadata": {},
       "output_type": "display_data",
       "text": [
        "/Users/gmatteo/Coding/git_branches/pseudo_dojo/pseudo_dojo/pseudos/ONCVPSP-PBE/O/O-dmax.ipynb"
       ]
      },
      {
       "html": [
        "<a href='O/O-low.ipynb' target='_blank'>O/O-low.ipynb</a><br>"
       ],
       "metadata": {},
       "output_type": "display_data",
       "text": [
        "/Users/gmatteo/Coding/git_branches/pseudo_dojo/pseudo_dojo/pseudos/ONCVPSP-PBE/O/O-low.ipynb"
       ]
      },
      {
       "html": [
        "<a href='O/O.ipynb' target='_blank'>O/O.ipynb</a><br>"
       ],
       "metadata": {},
       "output_type": "display_data",
       "text": [
        "/Users/gmatteo/Coding/git_branches/pseudo_dojo/pseudo_dojo/pseudos/ONCVPSP-PBE/O/O.ipynb"
       ]
      },
      {
       "html": [
        "<a href='Os/Os-p.ipynb' target='_blank'>Os/Os-p.ipynb</a><br>"
       ],
       "metadata": {},
       "output_type": "display_data",
       "text": [
        "/Users/gmatteo/Coding/git_branches/pseudo_dojo/pseudo_dojo/pseudos/ONCVPSP-PBE/Os/Os-p.ipynb"
       ]
      },
      {
       "html": [
        "<a href='P/P-dloc.ipynb' target='_blank'>P/P-dloc.ipynb</a><br>"
       ],
       "metadata": {},
       "output_type": "display_data",
       "text": [
        "/Users/gmatteo/Coding/git_branches/pseudo_dojo/pseudo_dojo/pseudos/ONCVPSP-PBE/P/P-dloc.ipynb"
       ]
      },
      {
       "html": [
        "<a href='P/P.ipynb' target='_blank'>P/P.ipynb</a><br>"
       ],
       "metadata": {},
       "output_type": "display_data",
       "text": [
        "/Users/gmatteo/Coding/git_branches/pseudo_dojo/pseudo_dojo/pseudos/ONCVPSP-PBE/P/P.ipynb"
       ]
      },
      {
       "html": [
        "<a href='Pb/Pb-d.ipynb' target='_blank'>Pb/Pb-d.ipynb</a><br>"
       ],
       "metadata": {},
       "output_type": "display_data",
       "text": [
        "/Users/gmatteo/Coding/git_branches/pseudo_dojo/pseudo_dojo/pseudos/ONCVPSP-PBE/Pb/Pb-d.ipynb"
       ]
      },
      {
       "html": [
        "<a href='Pd/Pd-sp.ipynb' target='_blank'>Pd/Pd-sp.ipynb</a><br>"
       ],
       "metadata": {},
       "output_type": "display_data",
       "text": [
        "/Users/gmatteo/Coding/git_branches/pseudo_dojo/pseudo_dojo/pseudos/ONCVPSP-PBE/Pd/Pd-sp.ipynb"
       ]
      },
      {
       "html": [
        "<a href='Pd/Pd.ipynb' target='_blank'>Pd/Pd.ipynb</a><br>"
       ],
       "metadata": {},
       "output_type": "display_data",
       "text": [
        "/Users/gmatteo/Coding/git_branches/pseudo_dojo/pseudo_dojo/pseudos/ONCVPSP-PBE/Pd/Pd.ipynb"
       ]
      },
      {
       "html": [
        "<a href='Po/Po-d.ipynb' target='_blank'>Po/Po-d.ipynb</a><br>"
       ],
       "metadata": {},
       "output_type": "display_data",
       "text": [
        "/Users/gmatteo/Coding/git_branches/pseudo_dojo/pseudo_dojo/pseudos/ONCVPSP-PBE/Po/Po-d.ipynb"
       ]
      },
      {
       "html": [
        "<a href='Pt/Pt-p.ipynb' target='_blank'>Pt/Pt-p.ipynb</a><br>"
       ],
       "metadata": {},
       "output_type": "display_data",
       "text": [
        "/Users/gmatteo/Coding/git_branches/pseudo_dojo/pseudo_dojo/pseudos/ONCVPSP-PBE/Pt/Pt-p.ipynb"
       ]
      },
      {
       "html": [
        "<a href='Pt/Pt-sp.ipynb' target='_blank'>Pt/Pt-sp.ipynb</a><br>"
       ],
       "metadata": {},
       "output_type": "display_data",
       "text": [
        "/Users/gmatteo/Coding/git_branches/pseudo_dojo/pseudo_dojo/pseudos/ONCVPSP-PBE/Pt/Pt-sp.ipynb"
       ]
      },
      {
       "html": [
        "<a href='Rb/Rb-sp.ipynb' target='_blank'>Rb/Rb-sp.ipynb</a><br>"
       ],
       "metadata": {},
       "output_type": "display_data",
       "text": [
        "/Users/gmatteo/Coding/git_branches/pseudo_dojo/pseudo_dojo/pseudos/ONCVPSP-PBE/Rb/Rb-sp.ipynb"
       ]
      },
      {
       "html": [
        "<a href='Re/Re-p.ipynb' target='_blank'>Re/Re-p.ipynb</a><br>"
       ],
       "metadata": {},
       "output_type": "display_data",
       "text": [
        "/Users/gmatteo/Coding/git_branches/pseudo_dojo/pseudo_dojo/pseudos/ONCVPSP-PBE/Re/Re-p.ipynb"
       ]
      },
      {
       "html": [
        "<a href='Rh/Rh-sp-ncon3.ipynb' target='_blank'>Rh/Rh-sp-ncon3.ipynb</a><br>"
       ],
       "metadata": {},
       "output_type": "display_data",
       "text": [
        "/Users/gmatteo/Coding/git_branches/pseudo_dojo/pseudo_dojo/pseudos/ONCVPSP-PBE/Rh/Rh-sp-ncon3.ipynb"
       ]
      },
      {
       "html": [
        "<a href='Rh/Rh-sp.ipynb' target='_blank'>Rh/Rh-sp.ipynb</a><br>"
       ],
       "metadata": {},
       "output_type": "display_data",
       "text": [
        "/Users/gmatteo/Coding/git_branches/pseudo_dojo/pseudo_dojo/pseudos/ONCVPSP-PBE/Rh/Rh-sp.ipynb"
       ]
      },
      {
       "html": [
        "<a href='Rn/Rn-d.ipynb' target='_blank'>Rn/Rn-d.ipynb</a><br>"
       ],
       "metadata": {},
       "output_type": "display_data",
       "text": [
        "/Users/gmatteo/Coding/git_branches/pseudo_dojo/pseudo_dojo/pseudos/ONCVPSP-PBE/Rn/Rn-d.ipynb"
       ]
      },
      {
       "html": [
        "<a href='Rn/Rn.ipynb' target='_blank'>Rn/Rn.ipynb</a><br>"
       ],
       "metadata": {},
       "output_type": "display_data",
       "text": [
        "/Users/gmatteo/Coding/git_branches/pseudo_dojo/pseudo_dojo/pseudos/ONCVPSP-PBE/Rn/Rn.ipynb"
       ]
      },
      {
       "html": [
        "<a href='Ru/Ru-sp-ncon3.ipynb' target='_blank'>Ru/Ru-sp-ncon3.ipynb</a><br>"
       ],
       "metadata": {},
       "output_type": "display_data",
       "text": [
        "/Users/gmatteo/Coding/git_branches/pseudo_dojo/pseudo_dojo/pseudos/ONCVPSP-PBE/Ru/Ru-sp-ncon3.ipynb"
       ]
      },
      {
       "html": [
        "<a href='Ru/Ru-sp.ipynb' target='_blank'>Ru/Ru-sp.ipynb</a><br>"
       ],
       "metadata": {},
       "output_type": "display_data",
       "text": [
        "/Users/gmatteo/Coding/git_branches/pseudo_dojo/pseudo_dojo/pseudos/ONCVPSP-PBE/Ru/Ru-sp.ipynb"
       ]
      },
      {
       "html": [
        "<a href='S/S.ipynb' target='_blank'>S/S.ipynb</a><br>"
       ],
       "metadata": {},
       "output_type": "display_data",
       "text": [
        "/Users/gmatteo/Coding/git_branches/pseudo_dojo/pseudo_dojo/pseudos/ONCVPSP-PBE/S/S.ipynb"
       ]
      },
      {
       "html": [
        "<a href='Sb/Sb-d.ipynb' target='_blank'>Sb/Sb-d.ipynb</a><br>"
       ],
       "metadata": {},
       "output_type": "display_data",
       "text": [
        "/Users/gmatteo/Coding/git_branches/pseudo_dojo/pseudo_dojo/pseudos/ONCVPSP-PBE/Sb/Sb-d.ipynb"
       ]
      },
      {
       "html": [
        "<a href='Sb/Sb.ipynb' target='_blank'>Sb/Sb.ipynb</a><br>"
       ],
       "metadata": {},
       "output_type": "display_data",
       "text": [
        "/Users/gmatteo/Coding/git_branches/pseudo_dojo/pseudo_dojo/pseudos/ONCVPSP-PBE/Sb/Sb.ipynb"
       ]
      },
      {
       "html": [
        "<a href='Sc/Sc-sp.ipynb' target='_blank'>Sc/Sc-sp.ipynb</a><br>"
       ],
       "metadata": {},
       "output_type": "display_data",
       "text": [
        "/Users/gmatteo/Coding/git_branches/pseudo_dojo/pseudo_dojo/pseudos/ONCVPSP-PBE/Sc/Sc-sp.ipynb"
       ]
      },
      {
       "html": [
        "<a href='Se/Se-d.ipynb' target='_blank'>Se/Se-d.ipynb</a><br>"
       ],
       "metadata": {},
       "output_type": "display_data",
       "text": [
        "/Users/gmatteo/Coding/git_branches/pseudo_dojo/pseudo_dojo/pseudos/ONCVPSP-PBE/Se/Se-d.ipynb"
       ]
      },
      {
       "html": [
        "<a href='Se/Se-low.ipynb' target='_blank'>Se/Se-low.ipynb</a><br>"
       ],
       "metadata": {},
       "output_type": "display_data",
       "text": [
        "/Users/gmatteo/Coding/git_branches/pseudo_dojo/pseudo_dojo/pseudos/ONCVPSP-PBE/Se/Se-low.ipynb"
       ]
      },
      {
       "html": [
        "<a href='Si/Si-dloc.ipynb' target='_blank'>Si/Si-dloc.ipynb</a><br>"
       ],
       "metadata": {},
       "output_type": "display_data",
       "text": [
        "/Users/gmatteo/Coding/git_branches/pseudo_dojo/pseudo_dojo/pseudos/ONCVPSP-PBE/Si/Si-dloc.ipynb"
       ]
      },
      {
       "html": [
        "<a href='Si/Si.ipynb' target='_blank'>Si/Si.ipynb</a><br>"
       ],
       "metadata": {},
       "output_type": "display_data",
       "text": [
        "/Users/gmatteo/Coding/git_branches/pseudo_dojo/pseudo_dojo/pseudos/ONCVPSP-PBE/Si/Si.ipynb"
       ]
      },
      {
       "html": [
        "<a href='Sn/Sn-d.ipynb' target='_blank'>Sn/Sn-d.ipynb</a><br>"
       ],
       "metadata": {},
       "output_type": "display_data",
       "text": [
        "/Users/gmatteo/Coding/git_branches/pseudo_dojo/pseudo_dojo/pseudos/ONCVPSP-PBE/Sn/Sn-d.ipynb"
       ]
      },
      {
       "html": [
        "<a href='Sn/Sn.ipynb' target='_blank'>Sn/Sn.ipynb</a><br>"
       ],
       "metadata": {},
       "output_type": "display_data",
       "text": [
        "/Users/gmatteo/Coding/git_branches/pseudo_dojo/pseudo_dojo/pseudos/ONCVPSP-PBE/Sn/Sn.ipynb"
       ]
      },
      {
       "html": [
        "<a href='Sr/Sr-sp.ipynb' target='_blank'>Sr/Sr-sp.ipynb</a><br>"
       ],
       "metadata": {},
       "output_type": "display_data",
       "text": [
        "/Users/gmatteo/Coding/git_branches/pseudo_dojo/pseudo_dojo/pseudos/ONCVPSP-PBE/Sr/Sr-sp.ipynb"
       ]
      },
      {
       "html": [
        "<a href='Ta/Ta-p.ipynb' target='_blank'>Ta/Ta-p.ipynb</a><br>"
       ],
       "metadata": {},
       "output_type": "display_data",
       "text": [
        "/Users/gmatteo/Coding/git_branches/pseudo_dojo/pseudo_dojo/pseudos/ONCVPSP-PBE/Ta/Ta-p.ipynb"
       ]
      },
      {
       "html": [
        "<a href='Tc/Tc-sp.ipynb' target='_blank'>Tc/Tc-sp.ipynb</a><br>"
       ],
       "metadata": {},
       "output_type": "display_data",
       "text": [
        "/Users/gmatteo/Coding/git_branches/pseudo_dojo/pseudo_dojo/pseudos/ONCVPSP-PBE/Tc/Tc-sp.ipynb"
       ]
      },
      {
       "html": [
        "<a href='Te/Te-d.ipynb' target='_blank'>Te/Te-d.ipynb</a><br>"
       ],
       "metadata": {},
       "output_type": "display_data",
       "text": [
        "/Users/gmatteo/Coding/git_branches/pseudo_dojo/pseudo_dojo/pseudos/ONCVPSP-PBE/Te/Te-d.ipynb"
       ]
      },
      {
       "html": [
        "<a href='Te/Te.ipynb' target='_blank'>Te/Te.ipynb</a><br>"
       ],
       "metadata": {},
       "output_type": "display_data",
       "text": [
        "/Users/gmatteo/Coding/git_branches/pseudo_dojo/pseudo_dojo/pseudos/ONCVPSP-PBE/Te/Te.ipynb"
       ]
      },
      {
       "html": [
        "<a href='Ti/Ti-sp.ipynb' target='_blank'>Ti/Ti-sp.ipynb</a><br>"
       ],
       "metadata": {},
       "output_type": "display_data",
       "text": [
        "/Users/gmatteo/Coding/git_branches/pseudo_dojo/pseudo_dojo/pseudos/ONCVPSP-PBE/Ti/Ti-sp.ipynb"
       ]
      },
      {
       "html": [
        "<a href='Tl/Tl-d.ipynb' target='_blank'>Tl/Tl-d.ipynb</a><br>"
       ],
       "metadata": {},
       "output_type": "display_data",
       "text": [
        "/Users/gmatteo/Coding/git_branches/pseudo_dojo/pseudo_dojo/pseudos/ONCVPSP-PBE/Tl/Tl-d.ipynb"
       ]
      },
      {
       "html": [
        "<a href='V/V-sp.ipynb' target='_blank'>V/V-sp.ipynb</a><br>"
       ],
       "metadata": {},
       "output_type": "display_data",
       "text": [
        "/Users/gmatteo/Coding/git_branches/pseudo_dojo/pseudo_dojo/pseudos/ONCVPSP-PBE/V/V-sp.ipynb"
       ]
      },
      {
       "html": [
        "<a href='W/W-p.ipynb' target='_blank'>W/W-p.ipynb</a><br>"
       ],
       "metadata": {},
       "output_type": "display_data",
       "text": [
        "/Users/gmatteo/Coding/git_branches/pseudo_dojo/pseudo_dojo/pseudos/ONCVPSP-PBE/W/W-p.ipynb"
       ]
      },
      {
       "html": [
        "<a href='W/W-sp.ipynb' target='_blank'>W/W-sp.ipynb</a><br>"
       ],
       "metadata": {},
       "output_type": "display_data",
       "text": [
        "/Users/gmatteo/Coding/git_branches/pseudo_dojo/pseudo_dojo/pseudos/ONCVPSP-PBE/W/W-sp.ipynb"
       ]
      },
      {
       "html": [
        "<a href='Xe/Xe-d.ipynb' target='_blank'>Xe/Xe-d.ipynb</a><br>"
       ],
       "metadata": {},
       "output_type": "display_data",
       "text": [
        "/Users/gmatteo/Coding/git_branches/pseudo_dojo/pseudo_dojo/pseudos/ONCVPSP-PBE/Xe/Xe-d.ipynb"
       ]
      },
      {
       "html": [
        "<a href='Xe/Xe.ipynb' target='_blank'>Xe/Xe.ipynb</a><br>"
       ],
       "metadata": {},
       "output_type": "display_data",
       "text": [
        "/Users/gmatteo/Coding/git_branches/pseudo_dojo/pseudo_dojo/pseudos/ONCVPSP-PBE/Xe/Xe.ipynb"
       ]
      },
      {
       "html": [
        "<a href='Y/Y-sp.ipynb' target='_blank'>Y/Y-sp.ipynb</a><br>"
       ],
       "metadata": {},
       "output_type": "display_data",
       "text": [
        "/Users/gmatteo/Coding/git_branches/pseudo_dojo/pseudo_dojo/pseudos/ONCVPSP-PBE/Y/Y-sp.ipynb"
       ]
      },
      {
       "html": [
        "<a href='Zn/Zn-sp-nonlcc.ipynb' target='_blank'>Zn/Zn-sp-nonlcc.ipynb</a><br>"
       ],
       "metadata": {},
       "output_type": "display_data",
       "text": [
        "/Users/gmatteo/Coding/git_branches/pseudo_dojo/pseudo_dojo/pseudos/ONCVPSP-PBE/Zn/Zn-sp-nonlcc.ipynb"
       ]
      },
      {
       "html": [
        "<a href='Zn/Zn-sp.ipynb' target='_blank'>Zn/Zn-sp.ipynb</a><br>"
       ],
       "metadata": {},
       "output_type": "display_data",
       "text": [
        "/Users/gmatteo/Coding/git_branches/pseudo_dojo/pseudo_dojo/pseudos/ONCVPSP-PBE/Zn/Zn-sp.ipynb"
       ]
      },
      {
       "html": [
        "<a href='Zn/Zn.ipynb' target='_blank'>Zn/Zn.ipynb</a><br>"
       ],
       "metadata": {},
       "output_type": "display_data",
       "text": [
        "/Users/gmatteo/Coding/git_branches/pseudo_dojo/pseudo_dojo/pseudos/ONCVPSP-PBE/Zn/Zn.ipynb"
       ]
      },
      {
       "html": [
        "<a href='Zr/Zr-sp.ipynb' target='_blank'>Zr/Zr-sp.ipynb</a><br>"
       ],
       "metadata": {},
       "output_type": "display_data",
       "text": [
        "/Users/gmatteo/Coding/git_branches/pseudo_dojo/pseudo_dojo/pseudos/ONCVPSP-PBE/Zr/Zr-sp.ipynb"
       ]
      }
     ],
     "prompt_number": 2
    },
    {
     "cell_type": "code",
     "collapsed": false,
     "input": [],
     "language": "python",
     "metadata": {},
     "outputs": [],
     "prompt_number": 1
    },
    {
     "cell_type": "code",
     "collapsed": false,
     "input": [],
     "language": "python",
     "metadata": {},
     "outputs": []
    }
   ],
   "metadata": {}
  }
 ]
}