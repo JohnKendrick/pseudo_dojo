{
 "metadata": {
  "name": "",
  "signature": "sha256:f07ea20bc23999bb9380a5e06680c0fd378f7d575b26f9f12beb501b3399b1b4"
 },
 "nbformat": 3,
 "nbformat_minor": 0,
 "worksheets": [
  {
   "cells": [
    {
     "cell_type": "markdown",
     "metadata": {},
     "source": [
      "Links to Ipython notebooks with plots and validation results:  "
     ]
    },
    {
     "cell_type": "code",
     "collapsed": false,
     "input": [
      "%run list_notebooks.ipy"
     ],
     "language": "python",
     "metadata": {},
     "outputs": [
      {
       "html": [
        "<a href='Ag/Ag-sp.ipynb' target='_blank'>Ag/Ag-sp.ipynb</a><br>"
       ],
       "metadata": {},
       "output_type": "display_data",
       "text": [
        "/Users/gmatteo/Coding/git_branches/pseudo_dojo/pseudo_dojo/pseudos/ONCVPSP-PBE/Ag/Ag-sp.ipynb"
       ]
      },
      {
       "html": [
        "<a href='Ag/Ag.ipynb' target='_blank'>Ag/Ag.ipynb</a><br>"
       ],
       "metadata": {},
       "output_type": "display_data",
       "text": [
        "/Users/gmatteo/Coding/git_branches/pseudo_dojo/pseudo_dojo/pseudos/ONCVPSP-PBE/Ag/Ag.ipynb"
       ]
      },
      {
       "html": [
        "<a href='Al/Al-dloc.ipynb' target='_blank'>Al/Al-dloc.ipynb</a><br>"
       ],
       "metadata": {},
       "output_type": "display_data",
       "text": [
        "/Users/gmatteo/Coding/git_branches/pseudo_dojo/pseudo_dojo/pseudos/ONCVPSP-PBE/Al/Al-dloc.ipynb"
       ]
      },
      {
       "html": [
        "<a href='Al/Al.ipynb' target='_blank'>Al/Al.ipynb</a><br>"
       ],
       "metadata": {},
       "output_type": "display_data",
       "text": [
        "/Users/gmatteo/Coding/git_branches/pseudo_dojo/pseudo_dojo/pseudos/ONCVPSP-PBE/Al/Al.ipynb"
       ]
      },
      {
       "html": [
        "<a href='Ar/Ar.ipynb' target='_blank'>Ar/Ar.ipynb</a><br>"
       ],
       "metadata": {},
       "output_type": "display_data",
       "text": [
        "/Users/gmatteo/Coding/git_branches/pseudo_dojo/pseudo_dojo/pseudos/ONCVPSP-PBE/Ar/Ar.ipynb"
       ]
      },
      {
       "html": [
        "<a href='As/As-d.ipynb' target='_blank'>As/As-d.ipynb</a><br>"
       ],
       "metadata": {},
       "output_type": "display_data",
       "text": [
        "/Users/gmatteo/Coding/git_branches/pseudo_dojo/pseudo_dojo/pseudos/ONCVPSP-PBE/As/As-d.ipynb"
       ]
      },
      {
       "html": [
        "<a href='As/As.ipynb' target='_blank'>As/As.ipynb</a><br>"
       ],
       "metadata": {},
       "output_type": "display_data",
       "text": [
        "/Users/gmatteo/Coding/git_branches/pseudo_dojo/pseudo_dojo/pseudos/ONCVPSP-PBE/As/As.ipynb"
       ]
      },
      {
       "html": [
        "<a href='Au/Au-p.ipynb' target='_blank'>Au/Au-p.ipynb</a><br>"
       ],
       "metadata": {},
       "output_type": "display_data",
       "text": [
        "/Users/gmatteo/Coding/git_branches/pseudo_dojo/pseudo_dojo/pseudos/ONCVPSP-PBE/Au/Au-p.ipynb"
       ]
      },
      {
       "html": [
        "<a href='Au/Au-sp.ipynb' target='_blank'>Au/Au-sp.ipynb</a><br>"
       ],
       "metadata": {},
       "output_type": "display_data",
       "text": [
        "/Users/gmatteo/Coding/git_branches/pseudo_dojo/pseudo_dojo/pseudos/ONCVPSP-PBE/Au/Au-sp.ipynb"
       ]
      },
      {
       "html": [
        "<a href='B/B-dmax.ipynb' target='_blank'>B/B-dmax.ipynb</a><br>"
       ],
       "metadata": {},
       "output_type": "display_data",
       "text": [
        "/Users/gmatteo/Coding/git_branches/pseudo_dojo/pseudo_dojo/pseudos/ONCVPSP-PBE/B/B-dmax.ipynb"
       ]
      },
      {
       "html": [
        "<a href='B/B-low-dmax.ipynb' target='_blank'>B/B-low-dmax.ipynb</a><br>"
       ],
       "metadata": {},
       "output_type": "display_data",
       "text": [
        "/Users/gmatteo/Coding/git_branches/pseudo_dojo/pseudo_dojo/pseudos/ONCVPSP-PBE/B/B-low-dmax.ipynb"
       ]
      },
      {
       "html": [
        "<a href='B/B-low.ipynb' target='_blank'>B/B-low.ipynb</a><br>"
       ],
       "metadata": {},
       "output_type": "display_data",
       "text": [
        "/Users/gmatteo/Coding/git_branches/pseudo_dojo/pseudo_dojo/pseudos/ONCVPSP-PBE/B/B-low.ipynb"
       ]
      },
      {
       "html": [
        "<a href='B/B.ipynb' target='_blank'>B/B.ipynb</a><br>"
       ],
       "metadata": {},
       "output_type": "display_data",
       "text": [
        "/Users/gmatteo/Coding/git_branches/pseudo_dojo/pseudo_dojo/pseudos/ONCVPSP-PBE/B/B.ipynb"
       ]
      },
      {
       "html": [
        "<a href='Ba/Ba-sp.ipynb' target='_blank'>Ba/Ba-sp.ipynb</a><br>"
       ],
       "metadata": {},
       "output_type": "display_data",
       "text": [
        "/Users/gmatteo/Coding/git_branches/pseudo_dojo/pseudo_dojo/pseudos/ONCVPSP-PBE/Ba/Ba-sp.ipynb"
       ]
      },
      {
       "html": [
        "<a href='Be/Be-low.ipynb' target='_blank'>Be/Be-low.ipynb</a><br>"
       ],
       "metadata": {},
       "output_type": "display_data",
       "text": [
        "/Users/gmatteo/Coding/git_branches/pseudo_dojo/pseudo_dojo/pseudos/ONCVPSP-PBE/Be/Be-low.ipynb"
       ]
      },
      {
       "html": [
        "<a href='Be/Be-s-high.ipynb' target='_blank'>Be/Be-s-high.ipynb</a><br>"
       ],
       "metadata": {},
       "output_type": "display_data",
       "text": [
        "/Users/gmatteo/Coding/git_branches/pseudo_dojo/pseudo_dojo/pseudos/ONCVPSP-PBE/Be/Be-s-high.ipynb"
       ]
      },
      {
       "html": [
        "<a href='Be/Be-s.ipynb' target='_blank'>Be/Be-s.ipynb</a><br>"
       ],
       "metadata": {},
       "output_type": "display_data",
       "text": [
        "/Users/gmatteo/Coding/git_branches/pseudo_dojo/pseudo_dojo/pseudos/ONCVPSP-PBE/Be/Be-s.ipynb"
       ]
      },
      {
       "html": [
        "<a href='Bi/Bi-d.ipynb' target='_blank'>Bi/Bi-d.ipynb</a><br>"
       ],
       "metadata": {},
       "output_type": "display_data",
       "text": [
        "/Users/gmatteo/Coding/git_branches/pseudo_dojo/pseudo_dojo/pseudos/ONCVPSP-PBE/Bi/Bi-d.ipynb"
       ]
      },
      {
       "html": [
        "<a href='Br/Br-d.ipynb' target='_blank'>Br/Br-d.ipynb</a><br>"
       ],
       "metadata": {},
       "output_type": "display_data",
       "text": [
        "/Users/gmatteo/Coding/git_branches/pseudo_dojo/pseudo_dojo/pseudos/ONCVPSP-PBE/Br/Br-d.ipynb"
       ]
      },
      {
       "html": [
        "<a href='Br/Br.ipynb' target='_blank'>Br/Br.ipynb</a><br>"
       ],
       "metadata": {},
       "output_type": "display_data",
       "text": [
        "/Users/gmatteo/Coding/git_branches/pseudo_dojo/pseudo_dojo/pseudos/ONCVPSP-PBE/Br/Br.ipynb"
       ]
      },
      {
       "html": [
        "<a href='C/C-dmax.ipynb' target='_blank'>C/C-dmax.ipynb</a><br>"
       ],
       "metadata": {},
       "output_type": "display_data",
       "text": [
        "/Users/gmatteo/Coding/git_branches/pseudo_dojo/pseudo_dojo/pseudos/ONCVPSP-PBE/C/C-dmax.ipynb"
       ]
      },
      {
       "html": [
        "<a href='C/C-low-dmax.ipynb' target='_blank'>C/C-low-dmax.ipynb</a><br>"
       ],
       "metadata": {},
       "output_type": "display_data",
       "text": [
        "/Users/gmatteo/Coding/git_branches/pseudo_dojo/pseudo_dojo/pseudos/ONCVPSP-PBE/C/C-low-dmax.ipynb"
       ]
      },
      {
       "html": [
        "<a href='C/C-low.ipynb' target='_blank'>C/C-low.ipynb</a><br>"
       ],
       "metadata": {},
       "output_type": "display_data",
       "text": [
        "/Users/gmatteo/Coding/git_branches/pseudo_dojo/pseudo_dojo/pseudos/ONCVPSP-PBE/C/C-low.ipynb"
       ]
      },
      {
       "html": [
        "<a href='C/C.ipynb' target='_blank'>C/C.ipynb</a><br>"
       ],
       "metadata": {},
       "output_type": "display_data",
       "text": [
        "/Users/gmatteo/Coding/git_branches/pseudo_dojo/pseudo_dojo/pseudos/ONCVPSP-PBE/C/C.ipynb"
       ]
      },
      {
       "html": [
        "<a href='Ca/Ca-sp.ipynb' target='_blank'>Ca/Ca-sp.ipynb</a><br>"
       ],
       "metadata": {},
       "output_type": "display_data",
       "text": [
        "/Users/gmatteo/Coding/git_branches/pseudo_dojo/pseudo_dojo/pseudos/ONCVPSP-PBE/Ca/Ca-sp.ipynb"
       ]
      },
      {
       "html": [
        "<a href='Cd/Cd-sp.ipynb' target='_blank'>Cd/Cd-sp.ipynb</a><br>"
       ],
       "metadata": {},
       "output_type": "display_data",
       "text": [
        "/Users/gmatteo/Coding/git_branches/pseudo_dojo/pseudo_dojo/pseudos/ONCVPSP-PBE/Cd/Cd-sp.ipynb"
       ]
      },
      {
       "html": [
        "<a href='Cd/Cd.ipynb' target='_blank'>Cd/Cd.ipynb</a><br>"
       ],
       "metadata": {},
       "output_type": "display_data",
       "text": [
        "/Users/gmatteo/Coding/git_branches/pseudo_dojo/pseudo_dojo/pseudos/ONCVPSP-PBE/Cd/Cd.ipynb"
       ]
      },
      {
       "html": [
        "<a href='Cl/Cl.ipynb' target='_blank'>Cl/Cl.ipynb</a><br>"
       ],
       "metadata": {},
       "output_type": "display_data",
       "text": [
        "/Users/gmatteo/Coding/git_branches/pseudo_dojo/pseudo_dojo/pseudos/ONCVPSP-PBE/Cl/Cl.ipynb"
       ]
      },
      {
       "html": [
        "<a href='Co/Co-sp-ncon3.ipynb' target='_blank'>Co/Co-sp-ncon3.ipynb</a><br>"
       ],
       "metadata": {},
       "output_type": "display_data",
       "text": [
        "/Users/gmatteo/Coding/git_branches/pseudo_dojo/pseudo_dojo/pseudos/ONCVPSP-PBE/Co/Co-sp-ncon3.ipynb"
       ]
      },
      {
       "html": [
        "<a href='Co/Co-sp.ipynb' target='_blank'>Co/Co-sp.ipynb</a><br>"
       ],
       "metadata": {},
       "output_type": "display_data",
       "text": [
        "/Users/gmatteo/Coding/git_branches/pseudo_dojo/pseudo_dojo/pseudos/ONCVPSP-PBE/Co/Co-sp.ipynb"
       ]
      },
      {
       "html": [
        "<a href='Cr/Cr-sp-ncon3.ipynb' target='_blank'>Cr/Cr-sp-ncon3.ipynb</a><br>"
       ],
       "metadata": {},
       "output_type": "display_data",
       "text": [
        "/Users/gmatteo/Coding/git_branches/pseudo_dojo/pseudo_dojo/pseudos/ONCVPSP-PBE/Cr/Cr-sp-ncon3.ipynb"
       ]
      },
      {
       "html": [
        "<a href='Cr/Cr-sp.ipynb' target='_blank'>Cr/Cr-sp.ipynb</a><br>"
       ],
       "metadata": {},
       "output_type": "display_data",
       "text": [
        "/Users/gmatteo/Coding/git_branches/pseudo_dojo/pseudo_dojo/pseudos/ONCVPSP-PBE/Cr/Cr-sp.ipynb"
       ]
      },
      {
       "html": [
        "<a href='Cs/Cs-sp.ipynb' target='_blank'>Cs/Cs-sp.ipynb</a><br>"
       ],
       "metadata": {},
       "output_type": "display_data",
       "text": [
        "/Users/gmatteo/Coding/git_branches/pseudo_dojo/pseudo_dojo/pseudos/ONCVPSP-PBE/Cs/Cs-sp.ipynb"
       ]
      },
      {
       "html": [
        "<a href='Cu/Cu-sp.ipynb' target='_blank'>Cu/Cu-sp.ipynb</a><br>"
       ],
       "metadata": {},
       "output_type": "display_data",
       "text": [
        "/Users/gmatteo/Coding/git_branches/pseudo_dojo/pseudo_dojo/pseudos/ONCVPSP-PBE/Cu/Cu-sp.ipynb"
       ]
      },
      {
       "html": [
        "<a href='F/F-dmax.ipynb' target='_blank'>F/F-dmax.ipynb</a><br>"
       ],
       "metadata": {},
       "output_type": "display_data",
       "text": [
        "/Users/gmatteo/Coding/git_branches/pseudo_dojo/pseudo_dojo/pseudos/ONCVPSP-PBE/F/F-dmax.ipynb"
       ]
      },
      {
       "html": [
        "<a href='F/F-high-dmax.ipynb' target='_blank'>F/F-high-dmax.ipynb</a><br>"
       ],
       "metadata": {},
       "output_type": "display_data",
       "text": [
        "/Users/gmatteo/Coding/git_branches/pseudo_dojo/pseudo_dojo/pseudos/ONCVPSP-PBE/F/F-high-dmax.ipynb"
       ]
      },
      {
       "html": [
        "<a href='F/F-high.ipynb' target='_blank'>F/F-high.ipynb</a><br>"
       ],
       "metadata": {},
       "output_type": "display_data",
       "text": [
        "/Users/gmatteo/Coding/git_branches/pseudo_dojo/pseudo_dojo/pseudos/ONCVPSP-PBE/F/F-high.ipynb"
       ]
      },
      {
       "html": [
        "<a href='F/F.ipynb' target='_blank'>F/F.ipynb</a><br>"
       ],
       "metadata": {},
       "output_type": "display_data",
       "text": [
        "/Users/gmatteo/Coding/git_branches/pseudo_dojo/pseudo_dojo/pseudos/ONCVPSP-PBE/F/F.ipynb"
       ]
      },
      {
       "html": [
        "<a href='Fe/Fe-sp-high-ncon4.ipynb' target='_blank'>Fe/Fe-sp-high-ncon4.ipynb</a><br>"
       ],
       "metadata": {},
       "output_type": "display_data",
       "text": [
        "/Users/gmatteo/Coding/git_branches/pseudo_dojo/pseudo_dojo/pseudos/ONCVPSP-PBE/Fe/Fe-sp-high-ncon4.ipynb"
       ]
      },
      {
       "html": [
        "<a href='Fe/Fe-sp-high.ipynb' target='_blank'>Fe/Fe-sp-high.ipynb</a><br>"
       ],
       "metadata": {},
       "output_type": "display_data",
       "text": [
        "/Users/gmatteo/Coding/git_branches/pseudo_dojo/pseudo_dojo/pseudos/ONCVPSP-PBE/Fe/Fe-sp-high.ipynb"
       ]
      },
      {
       "html": [
        "<a href='Fe/Fe-sp.ipynb' target='_blank'>Fe/Fe-sp.ipynb</a><br>"
       ],
       "metadata": {},
       "output_type": "display_data",
       "text": [
        "/Users/gmatteo/Coding/git_branches/pseudo_dojo/pseudo_dojo/pseudos/ONCVPSP-PBE/Fe/Fe-sp.ipynb"
       ]
      },
      {
       "html": [
        "<a href='Ga/Ga-d.ipynb' target='_blank'>Ga/Ga-d.ipynb</a><br>"
       ],
       "metadata": {},
       "output_type": "display_data",
       "text": [
        "/Users/gmatteo/Coding/git_branches/pseudo_dojo/pseudo_dojo/pseudos/ONCVPSP-PBE/Ga/Ga-d.ipynb"
       ]
      },
      {
       "html": [
        "<a href='Ga/Ga-low.ipynb' target='_blank'>Ga/Ga-low.ipynb</a><br>"
       ],
       "metadata": {},
       "output_type": "display_data",
       "text": [
        "/Users/gmatteo/Coding/git_branches/pseudo_dojo/pseudo_dojo/pseudos/ONCVPSP-PBE/Ga/Ga-low.ipynb"
       ]
      },
      {
       "html": [
        "<a href='Ge/Ge-d.ipynb' target='_blank'>Ge/Ge-d.ipynb</a><br>"
       ],
       "metadata": {},
       "output_type": "display_data",
       "text": [
        "/Users/gmatteo/Coding/git_branches/pseudo_dojo/pseudo_dojo/pseudos/ONCVPSP-PBE/Ge/Ge-d.ipynb"
       ]
      },
      {
       "html": [
        "<a href='Ge/Ge-low.ipynb' target='_blank'>Ge/Ge-low.ipynb</a><br>"
       ],
       "metadata": {},
       "output_type": "display_data",
       "text": [
        "/Users/gmatteo/Coding/git_branches/pseudo_dojo/pseudo_dojo/pseudos/ONCVPSP-PBE/Ge/Ge-low.ipynb"
       ]
      },
      {
       "html": [
        "<a href='H/H-high.ipynb' target='_blank'>H/H-high.ipynb</a><br>"
       ],
       "metadata": {},
       "output_type": "display_data",
       "text": [
        "/Users/gmatteo/Coding/git_branches/pseudo_dojo/pseudo_dojo/pseudos/ONCVPSP-PBE/H/H-high.ipynb"
       ]
      },
      {
       "html": [
        "<a href='H/H-ploc-high.ipynb' target='_blank'>H/H-ploc-high.ipynb</a><br>"
       ],
       "metadata": {},
       "output_type": "display_data",
       "text": [
        "/Users/gmatteo/Coding/git_branches/pseudo_dojo/pseudo_dojo/pseudos/ONCVPSP-PBE/H/H-ploc-high.ipynb"
       ]
      },
      {
       "html": [
        "<a href='H/H-ploc.ipynb' target='_blank'>H/H-ploc.ipynb</a><br>"
       ],
       "metadata": {},
       "output_type": "display_data",
       "text": [
        "/Users/gmatteo/Coding/git_branches/pseudo_dojo/pseudo_dojo/pseudos/ONCVPSP-PBE/H/H-ploc.ipynb"
       ]
      },
      {
       "html": [
        "<a href='He/He-ploc.ipynb' target='_blank'>He/He-ploc.ipynb</a><br>"
       ],
       "metadata": {},
       "output_type": "display_data",
       "text": [
        "/Users/gmatteo/Coding/git_branches/pseudo_dojo/pseudo_dojo/pseudos/ONCVPSP-PBE/He/He-ploc.ipynb"
       ]
      },
      {
       "html": [
        "<a href='He/He.ipynb' target='_blank'>He/He.ipynb</a><br>"
       ],
       "metadata": {},
       "output_type": "display_data",
       "text": [
        "/Users/gmatteo/Coding/git_branches/pseudo_dojo/pseudo_dojo/pseudos/ONCVPSP-PBE/He/He.ipynb"
       ]
      },
      {
       "html": [
        "<a href='Hf/Hf-p.ipynb' target='_blank'>Hf/Hf-p.ipynb</a><br>"
       ],
       "metadata": {},
       "output_type": "display_data",
       "text": [
        "/Users/gmatteo/Coding/git_branches/pseudo_dojo/pseudo_dojo/pseudos/ONCVPSP-PBE/Hf/Hf-p.ipynb"
       ]
      },
      {
       "html": [
        "<a href='Hf/Hf-sp.ipynb' target='_blank'>Hf/Hf-sp.ipynb</a><br>"
       ],
       "metadata": {},
       "output_type": "display_data",
       "text": [
        "/Users/gmatteo/Coding/git_branches/pseudo_dojo/pseudo_dojo/pseudos/ONCVPSP-PBE/Hf/Hf-sp.ipynb"
       ]
      },
      {
       "html": [
        "<a href='Hf/Hf-spdf.ipynb' target='_blank'>Hf/Hf-spdf.ipynb</a><br>"
       ],
       "metadata": {},
       "output_type": "display_data",
       "text": [
        "/Users/gmatteo/Coding/git_branches/pseudo_dojo/pseudo_dojo/pseudos/ONCVPSP-PBE/Hf/Hf-spdf.ipynb"
       ]
      },
      {
       "html": [
        "<a href='Hg/Hg-sp.ipynb' target='_blank'>Hg/Hg-sp.ipynb</a><br>"
       ],
       "metadata": {},
       "output_type": "display_data",
       "text": [
        "/Users/gmatteo/Coding/git_branches/pseudo_dojo/pseudo_dojo/pseudos/ONCVPSP-PBE/Hg/Hg-sp.ipynb"
       ]
      },
      {
       "html": [
        "<a href='Hg/Hg.ipynb' target='_blank'>Hg/Hg.ipynb</a><br>"
       ],
       "metadata": {},
       "output_type": "display_data",
       "text": [
        "/Users/gmatteo/Coding/git_branches/pseudo_dojo/pseudo_dojo/pseudos/ONCVPSP-PBE/Hg/Hg.ipynb"
       ]
      },
      {
       "html": [
        "<a href='I/I-d.ipynb' target='_blank'>I/I-d.ipynb</a><br>"
       ],
       "metadata": {},
       "output_type": "display_data",
       "text": [
        "/Users/gmatteo/Coding/git_branches/pseudo_dojo/pseudo_dojo/pseudos/ONCVPSP-PBE/I/I-d.ipynb"
       ]
      },
      {
       "html": [
        "<a href='I/I.ipynb' target='_blank'>I/I.ipynb</a><br>"
       ],
       "metadata": {},
       "output_type": "display_data",
       "text": [
        "/Users/gmatteo/Coding/git_branches/pseudo_dojo/pseudo_dojo/pseudos/ONCVPSP-PBE/I/I.ipynb"
       ]
      },
      {
       "html": [
        "<a href='In/In-d.ipynb' target='_blank'>In/In-d.ipynb</a><br>"
       ],
       "metadata": {},
       "output_type": "display_data",
       "text": [
        "/Users/gmatteo/Coding/git_branches/pseudo_dojo/pseudo_dojo/pseudos/ONCVPSP-PBE/In/In-d.ipynb"
       ]
      },
      {
       "html": [
        "<a href='Ir/Ir-p.ipynb' target='_blank'>Ir/Ir-p.ipynb</a><br>"
       ],
       "metadata": {},
       "output_type": "display_data",
       "text": [
        "/Users/gmatteo/Coding/git_branches/pseudo_dojo/pseudo_dojo/pseudos/ONCVPSP-PBE/Ir/Ir-p.ipynb"
       ]
      },
      {
       "html": [
        "<a href='K/K-sp.ipynb' target='_blank'>K/K-sp.ipynb</a><br>"
       ],
       "metadata": {},
       "output_type": "display_data",
       "text": [
        "/Users/gmatteo/Coding/git_branches/pseudo_dojo/pseudo_dojo/pseudos/ONCVPSP-PBE/K/K-sp.ipynb"
       ]
      },
      {
       "html": [
        "<a href='Kr/Kr-d.ipynb' target='_blank'>Kr/Kr-d.ipynb</a><br>"
       ],
       "metadata": {},
       "output_type": "display_data",
       "text": [
        "/Users/gmatteo/Coding/git_branches/pseudo_dojo/pseudo_dojo/pseudos/ONCVPSP-PBE/Kr/Kr-d.ipynb"
       ]
      },
      {
       "html": [
        "<a href='Kr/Kr.ipynb' target='_blank'>Kr/Kr.ipynb</a><br>"
       ],
       "metadata": {},
       "output_type": "display_data",
       "text": [
        "/Users/gmatteo/Coding/git_branches/pseudo_dojo/pseudo_dojo/pseudos/ONCVPSP-PBE/Kr/Kr.ipynb"
       ]
      },
      {
       "html": [
        "<a href='Li/Li-s-high.ipynb' target='_blank'>Li/Li-s-high.ipynb</a><br>"
       ],
       "metadata": {},
       "output_type": "display_data",
       "text": [
        "/Users/gmatteo/Coding/git_branches/pseudo_dojo/pseudo_dojo/pseudos/ONCVPSP-PBE/Li/Li-s-high.ipynb"
       ]
      },
      {
       "html": [
        "<a href='Li/Li-s.ipynb' target='_blank'>Li/Li-s.ipynb</a><br>"
       ],
       "metadata": {},
       "output_type": "display_data",
       "text": [
        "/Users/gmatteo/Coding/git_branches/pseudo_dojo/pseudo_dojo/pseudos/ONCVPSP-PBE/Li/Li-s.ipynb"
       ]
      },
      {
       "html": [
        "<a href='Mg/Mg-sp-nonlcc.ipynb' target='_blank'>Mg/Mg-sp-nonlcc.ipynb</a><br>"
       ],
       "metadata": {},
       "output_type": "display_data",
       "text": [
        "/Users/gmatteo/Coding/git_branches/pseudo_dojo/pseudo_dojo/pseudos/ONCVPSP-PBE/Mg/Mg-sp-nonlcc.ipynb"
       ]
      },
      {
       "html": [
        "<a href='Mg/Mg-sp.ipynb' target='_blank'>Mg/Mg-sp.ipynb</a><br>"
       ],
       "metadata": {},
       "output_type": "display_data",
       "text": [
        "/Users/gmatteo/Coding/git_branches/pseudo_dojo/pseudo_dojo/pseudos/ONCVPSP-PBE/Mg/Mg-sp.ipynb"
       ]
      },
      {
       "html": [
        "<a href='Mg/Mg.ipynb' target='_blank'>Mg/Mg.ipynb</a><br>"
       ],
       "metadata": {},
       "output_type": "display_data",
       "text": [
        "/Users/gmatteo/Coding/git_branches/pseudo_dojo/pseudo_dojo/pseudos/ONCVPSP-PBE/Mg/Mg.ipynb"
       ]
      },
      {
       "html": [
        "<a href='Mn/Mn-sp.ipynb' target='_blank'>Mn/Mn-sp.ipynb</a><br>"
       ],
       "metadata": {},
       "output_type": "display_data",
       "text": [
        "/Users/gmatteo/Coding/git_branches/pseudo_dojo/pseudo_dojo/pseudos/ONCVPSP-PBE/Mn/Mn-sp.ipynb"
       ]
      },
      {
       "html": [
        "<a href='Mo/Mo-sp.ipynb' target='_blank'>Mo/Mo-sp.ipynb</a><br>"
       ],
       "metadata": {},
       "output_type": "display_data",
       "text": [
        "/Users/gmatteo/Coding/git_branches/pseudo_dojo/pseudo_dojo/pseudos/ONCVPSP-PBE/Mo/Mo-sp.ipynb"
       ]
      },
      {
       "html": [
        "<a href='N/N-dmax.ipynb' target='_blank'>N/N-dmax.ipynb</a><br>"
       ],
       "metadata": {},
       "output_type": "display_data",
       "text": [
        "/Users/gmatteo/Coding/git_branches/pseudo_dojo/pseudo_dojo/pseudos/ONCVPSP-PBE/N/N-dmax.ipynb"
       ]
      },
      {
       "html": [
        "<a href='N/N-low-dmax.ipynb' target='_blank'>N/N-low-dmax.ipynb</a><br>"
       ],
       "metadata": {},
       "output_type": "display_data",
       "text": [
        "/Users/gmatteo/Coding/git_branches/pseudo_dojo/pseudo_dojo/pseudos/ONCVPSP-PBE/N/N-low-dmax.ipynb"
       ]
      },
      {
       "html": [
        "<a href='N/N-low.ipynb' target='_blank'>N/N-low.ipynb</a><br>"
       ],
       "metadata": {},
       "output_type": "display_data",
       "text": [
        "/Users/gmatteo/Coding/git_branches/pseudo_dojo/pseudo_dojo/pseudos/ONCVPSP-PBE/N/N-low.ipynb"
       ]
      },
      {
       "html": [
        "<a href='N/N.ipynb' target='_blank'>N/N.ipynb</a><br>"
       ],
       "metadata": {},
       "output_type": "display_data",
       "text": [
        "/Users/gmatteo/Coding/git_branches/pseudo_dojo/pseudo_dojo/pseudos/ONCVPSP-PBE/N/N.ipynb"
       ]
      },
      {
       "html": [
        "<a href='Na/Na-sp-nonlcc.ipynb' target='_blank'>Na/Na-sp-nonlcc.ipynb</a><br>"
       ],
       "metadata": {},
       "output_type": "display_data",
       "text": [
        "/Users/gmatteo/Coding/git_branches/pseudo_dojo/pseudo_dojo/pseudos/ONCVPSP-PBE/Na/Na-sp-nonlcc.ipynb"
       ]
      },
      {
       "html": [
        "<a href='Na/Na-sp.ipynb' target='_blank'>Na/Na-sp.ipynb</a><br>"
       ],
       "metadata": {},
       "output_type": "display_data",
       "text": [
        "/Users/gmatteo/Coding/git_branches/pseudo_dojo/pseudo_dojo/pseudos/ONCVPSP-PBE/Na/Na-sp.ipynb"
       ]
      },
      {
       "html": [
        "<a href='Nb/Nb-sp.ipynb' target='_blank'>Nb/Nb-sp.ipynb</a><br>"
       ],
       "metadata": {},
       "output_type": "display_data",
       "text": [
        "/Users/gmatteo/Coding/git_branches/pseudo_dojo/pseudo_dojo/pseudos/ONCVPSP-PBE/Nb/Nb-sp.ipynb"
       ]
      },
      {
       "html": [
        "<a href='Ne/Ne-nonlcc.ipynb' target='_blank'>Ne/Ne-nonlcc.ipynb</a><br>"
       ],
       "metadata": {},
       "output_type": "display_data",
       "text": [
        "/Users/gmatteo/Coding/git_branches/pseudo_dojo/pseudo_dojo/pseudos/ONCVPSP-PBE/Ne/Ne-nonlcc.ipynb"
       ]
      },
      {
       "html": [
        "<a href='Ne/Ne.ipynb' target='_blank'>Ne/Ne.ipynb</a><br>"
       ],
       "metadata": {},
       "output_type": "display_data",
       "text": [
        "/Users/gmatteo/Coding/git_branches/pseudo_dojo/pseudo_dojo/pseudos/ONCVPSP-PBE/Ne/Ne.ipynb"
       ]
      },
      {
       "html": [
        "<a href='Ni/Ni-sp.ipynb' target='_blank'>Ni/Ni-sp.ipynb</a><br>"
       ],
       "metadata": {},
       "output_type": "display_data",
       "text": [
        "/Users/gmatteo/Coding/git_branches/pseudo_dojo/pseudo_dojo/pseudos/ONCVPSP-PBE/Ni/Ni-sp.ipynb"
       ]
      },
      {
       "html": [
        "<a href='O/O-dmax.ipynb' target='_blank'>O/O-dmax.ipynb</a><br>"
       ],
       "metadata": {},
       "output_type": "display_data",
       "text": [
        "/Users/gmatteo/Coding/git_branches/pseudo_dojo/pseudo_dojo/pseudos/ONCVPSP-PBE/O/O-dmax.ipynb"
       ]
      },
      {
       "html": [
        "<a href='O/O-low.ipynb' target='_blank'>O/O-low.ipynb</a><br>"
       ],
       "metadata": {},
       "output_type": "display_data",
       "text": [
        "/Users/gmatteo/Coding/git_branches/pseudo_dojo/pseudo_dojo/pseudos/ONCVPSP-PBE/O/O-low.ipynb"
       ]
      },
      {
       "html": [
        "<a href='O/O.ipynb' target='_blank'>O/O.ipynb</a><br>"
       ],
       "metadata": {},
       "output_type": "display_data",
       "text": [
        "/Users/gmatteo/Coding/git_branches/pseudo_dojo/pseudo_dojo/pseudos/ONCVPSP-PBE/O/O.ipynb"
       ]
      },
      {
       "html": [
        "<a href='Os/Os-p.ipynb' target='_blank'>Os/Os-p.ipynb</a><br>"
       ],
       "metadata": {},
       "output_type": "display_data",
       "text": [
        "/Users/gmatteo/Coding/git_branches/pseudo_dojo/pseudo_dojo/pseudos/ONCVPSP-PBE/Os/Os-p.ipynb"
       ]
      },
      {
       "html": [
        "<a href='P/P-dloc.ipynb' target='_blank'>P/P-dloc.ipynb</a><br>"
       ],
       "metadata": {},
       "output_type": "display_data",
       "text": [
        "/Users/gmatteo/Coding/git_branches/pseudo_dojo/pseudo_dojo/pseudos/ONCVPSP-PBE/P/P-dloc.ipynb"
       ]
      },
      {
       "html": [
        "<a href='P/P.ipynb' target='_blank'>P/P.ipynb</a><br>"
       ],
       "metadata": {},
       "output_type": "display_data",
       "text": [
        "/Users/gmatteo/Coding/git_branches/pseudo_dojo/pseudo_dojo/pseudos/ONCVPSP-PBE/P/P.ipynb"
       ]
      },
      {
       "html": [
        "<a href='Pb/Pb-d.ipynb' target='_blank'>Pb/Pb-d.ipynb</a><br>"
       ],
       "metadata": {},
       "output_type": "display_data",
       "text": [
        "/Users/gmatteo/Coding/git_branches/pseudo_dojo/pseudo_dojo/pseudos/ONCVPSP-PBE/Pb/Pb-d.ipynb"
       ]
      },
      {
       "html": [
        "<a href='Pd/Pd-sp.ipynb' target='_blank'>Pd/Pd-sp.ipynb</a><br>"
       ],
       "metadata": {},
       "output_type": "display_data",
       "text": [
        "/Users/gmatteo/Coding/git_branches/pseudo_dojo/pseudo_dojo/pseudos/ONCVPSP-PBE/Pd/Pd-sp.ipynb"
       ]
      },
      {
       "html": [
        "<a href='Pd/Pd.ipynb' target='_blank'>Pd/Pd.ipynb</a><br>"
       ],
       "metadata": {},
       "output_type": "display_data",
       "text": [
        "/Users/gmatteo/Coding/git_branches/pseudo_dojo/pseudo_dojo/pseudos/ONCVPSP-PBE/Pd/Pd.ipynb"
       ]
      },
      {
       "html": [
        "<a href='Po/Po-d.ipynb' target='_blank'>Po/Po-d.ipynb</a><br>"
       ],
       "metadata": {},
       "output_type": "display_data",
       "text": [
        "/Users/gmatteo/Coding/git_branches/pseudo_dojo/pseudo_dojo/pseudos/ONCVPSP-PBE/Po/Po-d.ipynb"
       ]
      },
      {
       "html": [
        "<a href='Pt/Pt-p.ipynb' target='_blank'>Pt/Pt-p.ipynb</a><br>"
       ],
       "metadata": {},
       "output_type": "display_data",
       "text": [
        "/Users/gmatteo/Coding/git_branches/pseudo_dojo/pseudo_dojo/pseudos/ONCVPSP-PBE/Pt/Pt-p.ipynb"
       ]
      },
      {
       "html": [
        "<a href='Pt/Pt-sp.ipynb' target='_blank'>Pt/Pt-sp.ipynb</a><br>"
       ],
       "metadata": {},
       "output_type": "display_data",
       "text": [
        "/Users/gmatteo/Coding/git_branches/pseudo_dojo/pseudo_dojo/pseudos/ONCVPSP-PBE/Pt/Pt-sp.ipynb"
       ]
      },
      {
       "html": [
        "<a href='Rb/Rb-sp.ipynb' target='_blank'>Rb/Rb-sp.ipynb</a><br>"
       ],
       "metadata": {},
       "output_type": "display_data",
       "text": [
        "/Users/gmatteo/Coding/git_branches/pseudo_dojo/pseudo_dojo/pseudos/ONCVPSP-PBE/Rb/Rb-sp.ipynb"
       ]
      },
      {
       "html": [
        "<a href='Re/Re-p.ipynb' target='_blank'>Re/Re-p.ipynb</a><br>"
       ],
       "metadata": {},
       "output_type": "display_data",
       "text": [
        "/Users/gmatteo/Coding/git_branches/pseudo_dojo/pseudo_dojo/pseudos/ONCVPSP-PBE/Re/Re-p.ipynb"
       ]
      },
      {
       "html": [
        "<a href='Rh/Rh-sp-ncon3.ipynb' target='_blank'>Rh/Rh-sp-ncon3.ipynb</a><br>"
       ],
       "metadata": {},
       "output_type": "display_data",
       "text": [
        "/Users/gmatteo/Coding/git_branches/pseudo_dojo/pseudo_dojo/pseudos/ONCVPSP-PBE/Rh/Rh-sp-ncon3.ipynb"
       ]
      },
      {
       "html": [
        "<a href='Rh/Rh-sp.ipynb' target='_blank'>Rh/Rh-sp.ipynb</a><br>"
       ],
       "metadata": {},
       "output_type": "display_data",
       "text": [
        "/Users/gmatteo/Coding/git_branches/pseudo_dojo/pseudo_dojo/pseudos/ONCVPSP-PBE/Rh/Rh-sp.ipynb"
       ]
      },
      {
       "html": [
        "<a href='Rn/Rn-d.ipynb' target='_blank'>Rn/Rn-d.ipynb</a><br>"
       ],
       "metadata": {},
       "output_type": "display_data",
       "text": [
        "/Users/gmatteo/Coding/git_branches/pseudo_dojo/pseudo_dojo/pseudos/ONCVPSP-PBE/Rn/Rn-d.ipynb"
       ]
      },
      {
       "html": [
        "<a href='Rn/Rn.ipynb' target='_blank'>Rn/Rn.ipynb</a><br>"
       ],
       "metadata": {},
       "output_type": "display_data",
       "text": [
        "/Users/gmatteo/Coding/git_branches/pseudo_dojo/pseudo_dojo/pseudos/ONCVPSP-PBE/Rn/Rn.ipynb"
       ]
      },
      {
       "html": [
        "<a href='Ru/Ru-sp-ncon3.ipynb' target='_blank'>Ru/Ru-sp-ncon3.ipynb</a><br>"
       ],
       "metadata": {},
       "output_type": "display_data",
       "text": [
        "/Users/gmatteo/Coding/git_branches/pseudo_dojo/pseudo_dojo/pseudos/ONCVPSP-PBE/Ru/Ru-sp-ncon3.ipynb"
       ]
      },
      {
       "html": [
        "<a href='Ru/Ru-sp.ipynb' target='_blank'>Ru/Ru-sp.ipynb</a><br>"
       ],
       "metadata": {},
       "output_type": "display_data",
       "text": [
        "/Users/gmatteo/Coding/git_branches/pseudo_dojo/pseudo_dojo/pseudos/ONCVPSP-PBE/Ru/Ru-sp.ipynb"
       ]
      },
      {
       "html": [
        "<a href='S/S.ipynb' target='_blank'>S/S.ipynb</a><br>"
       ],
       "metadata": {},
       "output_type": "display_data",
       "text": [
        "/Users/gmatteo/Coding/git_branches/pseudo_dojo/pseudo_dojo/pseudos/ONCVPSP-PBE/S/S.ipynb"
       ]
      },
      {
       "html": [
        "<a href='Sb/Sb-d.ipynb' target='_blank'>Sb/Sb-d.ipynb</a><br>"
       ],
       "metadata": {},
       "output_type": "display_data",
       "text": [
        "/Users/gmatteo/Coding/git_branches/pseudo_dojo/pseudo_dojo/pseudos/ONCVPSP-PBE/Sb/Sb-d.ipynb"
       ]
      },
      {
       "html": [
        "<a href='Sb/Sb.ipynb' target='_blank'>Sb/Sb.ipynb</a><br>"
       ],
       "metadata": {},
       "output_type": "display_data",
       "text": [
        "/Users/gmatteo/Coding/git_branches/pseudo_dojo/pseudo_dojo/pseudos/ONCVPSP-PBE/Sb/Sb.ipynb"
       ]
      },
      {
       "html": [
        "<a href='Sc/Sc-sp.ipynb' target='_blank'>Sc/Sc-sp.ipynb</a><br>"
       ],
       "metadata": {},
       "output_type": "display_data",
       "text": [
        "/Users/gmatteo/Coding/git_branches/pseudo_dojo/pseudo_dojo/pseudos/ONCVPSP-PBE/Sc/Sc-sp.ipynb"
       ]
      },
      {
       "html": [
        "<a href='Se/Se-d.ipynb' target='_blank'>Se/Se-d.ipynb</a><br>"
       ],
       "metadata": {},
       "output_type": "display_data",
       "text": [
        "/Users/gmatteo/Coding/git_branches/pseudo_dojo/pseudo_dojo/pseudos/ONCVPSP-PBE/Se/Se-d.ipynb"
       ]
      },
      {
       "html": [
        "<a href='Se/Se-low.ipynb' target='_blank'>Se/Se-low.ipynb</a><br>"
       ],
       "metadata": {},
       "output_type": "display_data",
       "text": [
        "/Users/gmatteo/Coding/git_branches/pseudo_dojo/pseudo_dojo/pseudos/ONCVPSP-PBE/Se/Se-low.ipynb"
       ]
      },
      {
       "html": [
        "<a href='Si/Si-dloc.ipynb' target='_blank'>Si/Si-dloc.ipynb</a><br>"
       ],
       "metadata": {},
       "output_type": "display_data",
       "text": [
        "/Users/gmatteo/Coding/git_branches/pseudo_dojo/pseudo_dojo/pseudos/ONCVPSP-PBE/Si/Si-dloc.ipynb"
       ]
      },
      {
       "html": [
        "<a href='Si/Si.ipynb' target='_blank'>Si/Si.ipynb</a><br>"
       ],
       "metadata": {},
       "output_type": "display_data",
       "text": [
        "/Users/gmatteo/Coding/git_branches/pseudo_dojo/pseudo_dojo/pseudos/ONCVPSP-PBE/Si/Si.ipynb"
       ]
      },
      {
       "html": [
        "<a href='Sn/Sn-d.ipynb' target='_blank'>Sn/Sn-d.ipynb</a><br>"
       ],
       "metadata": {},
       "output_type": "display_data",
       "text": [
        "/Users/gmatteo/Coding/git_branches/pseudo_dojo/pseudo_dojo/pseudos/ONCVPSP-PBE/Sn/Sn-d.ipynb"
       ]
      },
      {
       "html": [
        "<a href='Sn/Sn.ipynb' target='_blank'>Sn/Sn.ipynb</a><br>"
       ],
       "metadata": {},
       "output_type": "display_data",
       "text": [
        "/Users/gmatteo/Coding/git_branches/pseudo_dojo/pseudo_dojo/pseudos/ONCVPSP-PBE/Sn/Sn.ipynb"
       ]
      },
      {
       "html": [
        "<a href='Sr/Sr-sp.ipynb' target='_blank'>Sr/Sr-sp.ipynb</a><br>"
       ],
       "metadata": {},
       "output_type": "display_data",
       "text": [
        "/Users/gmatteo/Coding/git_branches/pseudo_dojo/pseudo_dojo/pseudos/ONCVPSP-PBE/Sr/Sr-sp.ipynb"
       ]
      },
      {
       "html": [
        "<a href='Ta/Ta-p.ipynb' target='_blank'>Ta/Ta-p.ipynb</a><br>"
       ],
       "metadata": {},
       "output_type": "display_data",
       "text": [
        "/Users/gmatteo/Coding/git_branches/pseudo_dojo/pseudo_dojo/pseudos/ONCVPSP-PBE/Ta/Ta-p.ipynb"
       ]
      },
      {
       "html": [
        "<a href='Tc/Tc-sp.ipynb' target='_blank'>Tc/Tc-sp.ipynb</a><br>"
       ],
       "metadata": {},
       "output_type": "display_data",
       "text": [
        "/Users/gmatteo/Coding/git_branches/pseudo_dojo/pseudo_dojo/pseudos/ONCVPSP-PBE/Tc/Tc-sp.ipynb"
       ]
      },
      {
       "html": [
        "<a href='Te/Te-d.ipynb' target='_blank'>Te/Te-d.ipynb</a><br>"
       ],
       "metadata": {},
       "output_type": "display_data",
       "text": [
        "/Users/gmatteo/Coding/git_branches/pseudo_dojo/pseudo_dojo/pseudos/ONCVPSP-PBE/Te/Te-d.ipynb"
       ]
      },
      {
       "html": [
        "<a href='Te/Te.ipynb' target='_blank'>Te/Te.ipynb</a><br>"
       ],
       "metadata": {},
       "output_type": "display_data",
       "text": [
        "/Users/gmatteo/Coding/git_branches/pseudo_dojo/pseudo_dojo/pseudos/ONCVPSP-PBE/Te/Te.ipynb"
       ]
      },
      {
       "html": [
        "<a href='Ti/Ti-sp.ipynb' target='_blank'>Ti/Ti-sp.ipynb</a><br>"
       ],
       "metadata": {},
       "output_type": "display_data",
       "text": [
        "/Users/gmatteo/Coding/git_branches/pseudo_dojo/pseudo_dojo/pseudos/ONCVPSP-PBE/Ti/Ti-sp.ipynb"
       ]
      },
      {
       "html": [
        "<a href='Tl/Tl-d.ipynb' target='_blank'>Tl/Tl-d.ipynb</a><br>"
       ],
       "metadata": {},
       "output_type": "display_data",
       "text": [
        "/Users/gmatteo/Coding/git_branches/pseudo_dojo/pseudo_dojo/pseudos/ONCVPSP-PBE/Tl/Tl-d.ipynb"
       ]
      },
      {
       "html": [
        "<a href='V/V-sp.ipynb' target='_blank'>V/V-sp.ipynb</a><br>"
       ],
       "metadata": {},
       "output_type": "display_data",
       "text": [
        "/Users/gmatteo/Coding/git_branches/pseudo_dojo/pseudo_dojo/pseudos/ONCVPSP-PBE/V/V-sp.ipynb"
       ]
      },
      {
       "html": [
        "<a href='W/W-p.ipynb' target='_blank'>W/W-p.ipynb</a><br>"
       ],
       "metadata": {},
       "output_type": "display_data",
       "text": [
        "/Users/gmatteo/Coding/git_branches/pseudo_dojo/pseudo_dojo/pseudos/ONCVPSP-PBE/W/W-p.ipynb"
       ]
      },
      {
       "html": [
        "<a href='W/W-sp.ipynb' target='_blank'>W/W-sp.ipynb</a><br>"
       ],
       "metadata": {},
       "output_type": "display_data",
       "text": [
        "/Users/gmatteo/Coding/git_branches/pseudo_dojo/pseudo_dojo/pseudos/ONCVPSP-PBE/W/W-sp.ipynb"
       ]
      },
      {
       "html": [
        "<a href='Xe/Xe-d.ipynb' target='_blank'>Xe/Xe-d.ipynb</a><br>"
       ],
       "metadata": {},
       "output_type": "display_data",
       "text": [
        "/Users/gmatteo/Coding/git_branches/pseudo_dojo/pseudo_dojo/pseudos/ONCVPSP-PBE/Xe/Xe-d.ipynb"
       ]
      },
      {
       "html": [
        "<a href='Xe/Xe.ipynb' target='_blank'>Xe/Xe.ipynb</a><br>"
       ],
       "metadata": {},
       "output_type": "display_data",
       "text": [
        "/Users/gmatteo/Coding/git_branches/pseudo_dojo/pseudo_dojo/pseudos/ONCVPSP-PBE/Xe/Xe.ipynb"
       ]
      },
      {
       "html": [
        "<a href='Y/Y-sp.ipynb' target='_blank'>Y/Y-sp.ipynb</a><br>"
       ],
       "metadata": {},
       "output_type": "display_data",
       "text": [
        "/Users/gmatteo/Coding/git_branches/pseudo_dojo/pseudo_dojo/pseudos/ONCVPSP-PBE/Y/Y-sp.ipynb"
       ]
      },
      {
       "html": [
        "<a href='Zn/Zn-sp-nonlcc.ipynb' target='_blank'>Zn/Zn-sp-nonlcc.ipynb</a><br>"
       ],
       "metadata": {},
       "output_type": "display_data",
       "text": [
        "/Users/gmatteo/Coding/git_branches/pseudo_dojo/pseudo_dojo/pseudos/ONCVPSP-PBE/Zn/Zn-sp-nonlcc.ipynb"
       ]
      },
      {
       "html": [
        "<a href='Zn/Zn-sp.ipynb' target='_blank'>Zn/Zn-sp.ipynb</a><br>"
       ],
       "metadata": {},
       "output_type": "display_data",
       "text": [
        "/Users/gmatteo/Coding/git_branches/pseudo_dojo/pseudo_dojo/pseudos/ONCVPSP-PBE/Zn/Zn-sp.ipynb"
       ]
      },
      {
       "html": [
        "<a href='Zn/Zn.ipynb' target='_blank'>Zn/Zn.ipynb</a><br>"
       ],
       "metadata": {},
       "output_type": "display_data",
       "text": [
        "/Users/gmatteo/Coding/git_branches/pseudo_dojo/pseudo_dojo/pseudos/ONCVPSP-PBE/Zn/Zn.ipynb"
       ]
      },
      {
       "html": [
        "<a href='Zr/Zr-sp.ipynb' target='_blank'>Zr/Zr-sp.ipynb</a><br>"
       ],
       "metadata": {},
       "output_type": "display_data",
       "text": [
        "/Users/gmatteo/Coding/git_branches/pseudo_dojo/pseudo_dojo/pseudos/ONCVPSP-PBE/Zr/Zr-sp.ipynb"
       ]
      }
     ],
     "prompt_number": 5
    },
    {
     "cell_type": "heading",
     "level": 1,
     "metadata": {},
     "source": [
      "Table with deltafactor, GBRV results and hints for the cutoff energy:"
     ]
    },
    {
     "cell_type": "code",
     "collapsed": false,
     "input": [
      "from __future__ import division, print_function, unicode_literals\n",
      "\n",
      "import os\n",
      "#import mpld3\n",
      "#mpld3.enable_notebook()\n",
      "import seaborn as sns\n",
      "#sns.set(style=\"dark\", palette=\"Set2\")\n",
      "sns.set(style='ticks', palette='Set2')\n",
      "import pandas as pd\n",
      "pd.set_option('precision',4)\n",
      "\n",
      "from pymatgen.io.abinitio.pseudos import PseudoTable, Pseudo\n",
      "\n",
      "from pseudo_dojo import get_pseudos\n",
      "pseudos = get_pseudos(\".\")\n",
      "\n",
      "alldata, errors = pseudos.get_dojo_dataframe()\n",
      "\n",
      "trials = alldata.get_trials(accuracies=(\"low\", \"high\"))\n",
      "\n",
      "from IPython.display import HTML\n",
      "h = HTML(trials.to_html()); h\n",
      "#html_table = trials.tabulate()"
     ],
     "language": "python",
     "metadata": {},
     "outputs": [
      {
       "output_type": "stream",
       "stream": "stderr",
       "text": [
        "WARNING:pymatgen.io.abinitio.pseudos:O-dmax.psp8 raised 52.0\n"
       ]
      },
      {
       "output_type": "stream",
       "stream": "stderr",
       "text": [
        "WARNING:pymatgen.io.abinitio.pseudos:Na-sp-nonlcc.psp8 raised 60.0\n"
       ]
      },
      {
       "output_type": "stream",
       "stream": "stderr",
       "text": [
        "WARNING:pymatgen.io.abinitio.pseudos:Na-sp.psp8 raised 60.0\n"
       ]
      },
      {
       "output_type": "stream",
       "stream": "stderr",
       "text": [
        "WARNING:pymatgen.io.abinitio.pseudos:Te-d.psp8 raised 56.0\n"
       ]
      },
      {
       "html": [
        "<table border=\"1\" class=\"dataframe\">\n",
        "  <thead>\n",
        "    <tr style=\"text-align: right;\">\n",
        "      <th></th>\n",
        "      <th>low_dfact_meV</th>\n",
        "      <th>high_dfact_meV</th>\n",
        "      <th>low_ecut</th>\n",
        "      <th>high_ecut</th>\n",
        "      <th>low_gbrv_fcc_a0_rel_err</th>\n",
        "      <th>high_gbrv_fcc_a0_rel_err</th>\n",
        "      <th>low_gbrv_bcc_a0_rel_err</th>\n",
        "      <th>high_gbrv_bcc_a0_rel_err</th>\n",
        "    </tr>\n",
        "  </thead>\n",
        "  <tbody>\n",
        "    <tr>\n",
        "      <th>H-high.psp8</th>\n",
        "      <td>  0.065</td>\n",
        "      <td>  0.074</td>\n",
        "      <td> 40</td>\n",
        "      <td> 60</td>\n",
        "      <td> 0.039</td>\n",
        "      <td> 0.028</td>\n",
        "      <td> 0.040</td>\n",
        "      <td> 0.041</td>\n",
        "    </tr>\n",
        "    <tr>\n",
        "      <th>H-ploc-high.psp8</th>\n",
        "      <td>  0.057</td>\n",
        "      <td>  0.067</td>\n",
        "      <td> 40</td>\n",
        "      <td> 60</td>\n",
        "      <td> 0.054</td>\n",
        "      <td> 0.035</td>\n",
        "      <td> 0.052</td>\n",
        "      <td> 0.050</td>\n",
        "    </tr>\n",
        "    <tr>\n",
        "      <th>H-ploc.psp8</th>\n",
        "      <td>  0.277</td>\n",
        "      <td>  0.309</td>\n",
        "      <td> 32</td>\n",
        "      <td> 52</td>\n",
        "      <td> 0.040</td>\n",
        "      <td> 0.038</td>\n",
        "      <td> 0.051</td>\n",
        "      <td> 0.036</td>\n",
        "    </tr>\n",
        "    <tr>\n",
        "      <th>He-ploc.psp8</th>\n",
        "      <td>  0.012</td>\n",
        "      <td>  0.022</td>\n",
        "      <td> 36</td>\n",
        "      <td> 56</td>\n",
        "      <td>   NaN</td>\n",
        "      <td>   NaN</td>\n",
        "      <td>   NaN</td>\n",
        "      <td>   NaN</td>\n",
        "    </tr>\n",
        "    <tr>\n",
        "      <th>He.psp8</th>\n",
        "      <td>  0.012</td>\n",
        "      <td>  0.022</td>\n",
        "      <td> 36</td>\n",
        "      <td> 56</td>\n",
        "      <td>   NaN</td>\n",
        "      <td>   NaN</td>\n",
        "      <td>   NaN</td>\n",
        "      <td>   NaN</td>\n",
        "    </tr>\n",
        "    <tr>\n",
        "      <th>Li-s-high.psp8</th>\n",
        "      <td>  0.139</td>\n",
        "      <td>  0.139</td>\n",
        "      <td> 48</td>\n",
        "      <td> 68</td>\n",
        "      <td>-0.099</td>\n",
        "      <td>-0.098</td>\n",
        "      <td>-0.075</td>\n",
        "      <td>-0.074</td>\n",
        "    </tr>\n",
        "    <tr>\n",
        "      <th>Li-s.psp8</th>\n",
        "      <td>  0.185</td>\n",
        "      <td>  0.174</td>\n",
        "      <td> 35</td>\n",
        "      <td> 55</td>\n",
        "      <td>-0.075</td>\n",
        "      <td>-0.079</td>\n",
        "      <td>-0.043</td>\n",
        "      <td>-0.055</td>\n",
        "    </tr>\n",
        "    <tr>\n",
        "      <th>Be-low.psp8</th>\n",
        "      <td>  1.672</td>\n",
        "      <td>  1.709</td>\n",
        "      <td> 20</td>\n",
        "      <td> 40</td>\n",
        "      <td>-0.267</td>\n",
        "      <td>-0.269</td>\n",
        "      <td>-0.230</td>\n",
        "      <td>-0.238</td>\n",
        "    </tr>\n",
        "    <tr>\n",
        "      <th>Be-s-high.psp8</th>\n",
        "      <td>  0.912</td>\n",
        "      <td>  0.912</td>\n",
        "      <td> 53</td>\n",
        "      <td> 73</td>\n",
        "      <td> 0.162</td>\n",
        "      <td> 0.161</td>\n",
        "      <td> 0.162</td>\n",
        "      <td> 0.159</td>\n",
        "    </tr>\n",
        "    <tr>\n",
        "      <th>Be-s.psp8</th>\n",
        "      <td>  1.482</td>\n",
        "      <td>  1.440</td>\n",
        "      <td> 42</td>\n",
        "      <td> 62</td>\n",
        "      <td> 0.247</td>\n",
        "      <td> 0.244</td>\n",
        "      <td> 0.245</td>\n",
        "      <td> 0.241</td>\n",
        "    </tr>\n",
        "    <tr>\n",
        "      <th>B-dmax.psp8</th>\n",
        "      <td>  1.965</td>\n",
        "      <td>  1.986</td>\n",
        "      <td> 40</td>\n",
        "      <td> 60</td>\n",
        "      <td>-0.136</td>\n",
        "      <td>-0.138</td>\n",
        "      <td>-0.108</td>\n",
        "      <td>-0.110</td>\n",
        "    </tr>\n",
        "    <tr>\n",
        "      <th>B-low-dmax.psp8</th>\n",
        "      <td>  2.731</td>\n",
        "      <td>  2.801</td>\n",
        "      <td> 32</td>\n",
        "      <td> 52</td>\n",
        "      <td>-0.182</td>\n",
        "      <td>-0.185</td>\n",
        "      <td>-0.152</td>\n",
        "      <td>-0.152</td>\n",
        "    </tr>\n",
        "    <tr>\n",
        "      <th>B-low.psp8</th>\n",
        "      <td>  1.783</td>\n",
        "      <td>  1.852</td>\n",
        "      <td> 32</td>\n",
        "      <td> 52</td>\n",
        "      <td>-0.027</td>\n",
        "      <td>-0.030</td>\n",
        "      <td> 0.018</td>\n",
        "      <td> 0.018</td>\n",
        "    </tr>\n",
        "    <tr>\n",
        "      <th>B.psp8</th>\n",
        "      <td>  1.021</td>\n",
        "      <td>  1.040</td>\n",
        "      <td> 40</td>\n",
        "      <td> 60</td>\n",
        "      <td> 0.018</td>\n",
        "      <td> 0.017</td>\n",
        "      <td> 0.061</td>\n",
        "      <td> 0.059</td>\n",
        "    </tr>\n",
        "    <tr>\n",
        "      <th>C-dmax.psp8</th>\n",
        "      <td>  2.907</td>\n",
        "      <td>  2.917</td>\n",
        "      <td> 43</td>\n",
        "      <td> 63</td>\n",
        "      <td>-0.039</td>\n",
        "      <td>-0.034</td>\n",
        "      <td>-0.115</td>\n",
        "      <td>-0.118</td>\n",
        "    </tr>\n",
        "    <tr>\n",
        "      <th>C-low-dmax.psp8</th>\n",
        "      <td>  5.414</td>\n",
        "      <td>  5.462</td>\n",
        "      <td> 33</td>\n",
        "      <td> 53</td>\n",
        "      <td>-0.038</td>\n",
        "      <td>-0.037</td>\n",
        "      <td> 0.078</td>\n",
        "      <td>-0.140</td>\n",
        "    </tr>\n",
        "    <tr>\n",
        "      <th>C-low.psp8</th>\n",
        "      <td>  2.966</td>\n",
        "      <td>  3.014</td>\n",
        "      <td> 33</td>\n",
        "      <td> 53</td>\n",
        "      <td> 0.146</td>\n",
        "      <td> 0.146</td>\n",
        "      <td> 0.382</td>\n",
        "      <td> 0.121</td>\n",
        "    </tr>\n",
        "    <tr>\n",
        "      <th>C.psp8</th>\n",
        "      <td>  0.455</td>\n",
        "      <td>  0.474</td>\n",
        "      <td> 43</td>\n",
        "      <td> 63</td>\n",
        "      <td> 0.145</td>\n",
        "      <td> 0.149</td>\n",
        "      <td> 0.149</td>\n",
        "      <td> 0.144</td>\n",
        "    </tr>\n",
        "    <tr>\n",
        "      <th>N-dmax.psp8</th>\n",
        "      <td>  5.699</td>\n",
        "      <td>  5.753</td>\n",
        "      <td> 40</td>\n",
        "      <td> 60</td>\n",
        "      <td>-0.162</td>\n",
        "      <td>-0.190</td>\n",
        "      <td>-0.210</td>\n",
        "      <td>-0.216</td>\n",
        "    </tr>\n",
        "    <tr>\n",
        "      <th>N-low-dmax.psp8</th>\n",
        "      <td>  8.106</td>\n",
        "      <td>  8.187</td>\n",
        "      <td> 36</td>\n",
        "      <td> 56</td>\n",
        "      <td>-0.154</td>\n",
        "      <td>-0.182</td>\n",
        "      <td>-0.196</td>\n",
        "      <td>-0.209</td>\n",
        "    </tr>\n",
        "    <tr>\n",
        "      <th>N-low.psp8</th>\n",
        "      <td>  0.617</td>\n",
        "      <td>  0.821</td>\n",
        "      <td> 36</td>\n",
        "      <td> 56</td>\n",
        "      <td> 0.010</td>\n",
        "      <td>-0.021</td>\n",
        "      <td>-0.032</td>\n",
        "      <td>-0.042</td>\n",
        "    </tr>\n",
        "    <tr>\n",
        "      <th>N.psp8</th>\n",
        "      <td>  0.260</td>\n",
        "      <td>  0.289</td>\n",
        "      <td> 40</td>\n",
        "      <td> 60</td>\n",
        "      <td>-0.032</td>\n",
        "      <td>-0.060</td>\n",
        "      <td>-0.074</td>\n",
        "      <td>-0.082</td>\n",
        "    </tr>\n",
        "    <tr>\n",
        "      <th>O-dmax.psp8</th>\n",
        "      <td>  1.679</td>\n",
        "      <td>  0.997</td>\n",
        "      <td> 44</td>\n",
        "      <td> 64</td>\n",
        "      <td>   NaN</td>\n",
        "      <td>   NaN</td>\n",
        "      <td>-0.107</td>\n",
        "      <td>   NaN</td>\n",
        "    </tr>\n",
        "    <tr>\n",
        "      <th>O-low.psp8</th>\n",
        "      <td>  5.341</td>\n",
        "      <td>  3.765</td>\n",
        "      <td> 36</td>\n",
        "      <td> 56</td>\n",
        "      <td> 0.071</td>\n",
        "      <td>-0.093</td>\n",
        "      <td> 0.078</td>\n",
        "      <td>-0.031</td>\n",
        "    </tr>\n",
        "    <tr>\n",
        "      <th>O.psp8</th>\n",
        "      <td>  5.100</td>\n",
        "      <td>  5.282</td>\n",
        "      <td> 45</td>\n",
        "      <td> 65</td>\n",
        "      <td> 0.020</td>\n",
        "      <td>-0.092</td>\n",
        "      <td> 0.014</td>\n",
        "      <td>-0.035</td>\n",
        "    </tr>\n",
        "    <tr>\n",
        "      <th>F-dmax.psp8</th>\n",
        "      <td>  1.919</td>\n",
        "      <td>  0.309</td>\n",
        "      <td> 35</td>\n",
        "      <td> 55</td>\n",
        "      <td>   NaN</td>\n",
        "      <td>   NaN</td>\n",
        "      <td>   NaN</td>\n",
        "      <td>   NaN</td>\n",
        "    </tr>\n",
        "    <tr>\n",
        "      <th>F-high-dmax.psp8</th>\n",
        "      <td>  3.518</td>\n",
        "      <td>  0.292</td>\n",
        "      <td> 50</td>\n",
        "      <td> 70</td>\n",
        "      <td>   NaN</td>\n",
        "      <td>   NaN</td>\n",
        "      <td>   NaN</td>\n",
        "      <td>   NaN</td>\n",
        "    </tr>\n",
        "    <tr>\n",
        "      <th>F-high.psp8</th>\n",
        "      <td>  2.199</td>\n",
        "      <td>  2.186</td>\n",
        "      <td> 50</td>\n",
        "      <td> 70</td>\n",
        "      <td> 0.101</td>\n",
        "      <td>-0.479</td>\n",
        "      <td>-0.115</td>\n",
        "      <td>-0.564</td>\n",
        "    </tr>\n",
        "    <tr>\n",
        "      <th>F.psp8</th>\n",
        "      <td>  5.508</td>\n",
        "      <td>  3.968</td>\n",
        "      <td> 35</td>\n",
        "      <td> 55</td>\n",
        "      <td> 0.321</td>\n",
        "      <td>-0.322</td>\n",
        "      <td> 0.511</td>\n",
        "      <td>-0.275</td>\n",
        "    </tr>\n",
        "    <tr>\n",
        "      <th>Ne-nonlcc.psp8</th>\n",
        "      <td>  0.015</td>\n",
        "      <td>  0.045</td>\n",
        "      <td> 40</td>\n",
        "      <td> 60</td>\n",
        "      <td>   NaN</td>\n",
        "      <td>   NaN</td>\n",
        "      <td>   NaN</td>\n",
        "      <td>   NaN</td>\n",
        "    </tr>\n",
        "    <tr>\n",
        "      <th>Ne.psp8</th>\n",
        "      <td>  2.569</td>\n",
        "      <td>  3.749</td>\n",
        "      <td> 40</td>\n",
        "      <td> 60</td>\n",
        "      <td>   NaN</td>\n",
        "      <td>   NaN</td>\n",
        "      <td>   NaN</td>\n",
        "      <td>   NaN</td>\n",
        "    </tr>\n",
        "    <tr>\n",
        "      <th>Na-sp-nonlcc.psp8</th>\n",
        "      <td>  0.418</td>\n",
        "      <td>    NaN</td>\n",
        "      <td> 40</td>\n",
        "      <td> 60</td>\n",
        "      <td>   NaN</td>\n",
        "      <td>   NaN</td>\n",
        "      <td>   NaN</td>\n",
        "      <td>   NaN</td>\n",
        "    </tr>\n",
        "    <tr>\n",
        "      <th>Na-sp.psp8</th>\n",
        "      <td> 16.797</td>\n",
        "      <td>    NaN</td>\n",
        "      <td> 40</td>\n",
        "      <td> 60</td>\n",
        "      <td>   NaN</td>\n",
        "      <td>   NaN</td>\n",
        "      <td>   NaN</td>\n",
        "      <td>   NaN</td>\n",
        "    </tr>\n",
        "    <tr>\n",
        "      <th>Mg-sp-nonlcc.psp8</th>\n",
        "      <td>  0.406</td>\n",
        "      <td>  0.363</td>\n",
        "      <td> 40</td>\n",
        "      <td> 60</td>\n",
        "      <td> 0.022</td>\n",
        "      <td> 0.016</td>\n",
        "      <td> 0.014</td>\n",
        "      <td> 0.014</td>\n",
        "    </tr>\n",
        "    <tr>\n",
        "      <th>Mg-sp.psp8</th>\n",
        "      <td>  1.450</td>\n",
        "      <td>  3.131</td>\n",
        "      <td> 40</td>\n",
        "      <td> 60</td>\n",
        "      <td> 0.687</td>\n",
        "      <td> 0.088</td>\n",
        "      <td> 0.720</td>\n",
        "      <td> 0.296</td>\n",
        "    </tr>\n",
        "    <tr>\n",
        "      <th>Mg.psp8</th>\n",
        "      <td>  0.526</td>\n",
        "      <td>  0.541</td>\n",
        "      <td> 19</td>\n",
        "      <td> 39</td>\n",
        "      <td>-0.149</td>\n",
        "      <td>-0.152</td>\n",
        "      <td>-0.152</td>\n",
        "      <td>-0.155</td>\n",
        "    </tr>\n",
        "    <tr>\n",
        "      <th>Al-dloc.psp8</th>\n",
        "      <td>  0.359</td>\n",
        "      <td>  0.453</td>\n",
        "      <td> 20</td>\n",
        "      <td> 40</td>\n",
        "      <td>-0.087</td>\n",
        "      <td>-0.099</td>\n",
        "      <td>-0.113</td>\n",
        "      <td>-0.123</td>\n",
        "    </tr>\n",
        "    <tr>\n",
        "      <th>Al.psp8</th>\n",
        "      <td>  0.328</td>\n",
        "      <td>  0.438</td>\n",
        "      <td> 20</td>\n",
        "      <td> 40</td>\n",
        "      <td>-0.083</td>\n",
        "      <td>-0.097</td>\n",
        "      <td>-0.109</td>\n",
        "      <td>-0.121</td>\n",
        "    </tr>\n",
        "    <tr>\n",
        "      <th>Si-dloc.psp8</th>\n",
        "      <td>  0.907</td>\n",
        "      <td>  1.021</td>\n",
        "      <td> 18</td>\n",
        "      <td> 38</td>\n",
        "      <td>-0.064</td>\n",
        "      <td>-0.124</td>\n",
        "      <td>-0.141</td>\n",
        "      <td>-0.160</td>\n",
        "    </tr>\n",
        "    <tr>\n",
        "      <th>Si.psp8</th>\n",
        "      <td>  1.300</td>\n",
        "      <td>  1.079</td>\n",
        "      <td> 16</td>\n",
        "      <td> 36</td>\n",
        "      <td>-0.091</td>\n",
        "      <td>-0.120</td>\n",
        "      <td>-0.133</td>\n",
        "      <td>-0.154</td>\n",
        "    </tr>\n",
        "    <tr>\n",
        "      <th>P-dloc.psp8</th>\n",
        "      <td>  0.971</td>\n",
        "      <td>  1.044</td>\n",
        "      <td> 21</td>\n",
        "      <td> 41</td>\n",
        "      <td>-0.565</td>\n",
        "      <td>-0.589</td>\n",
        "      <td>-0.489</td>\n",
        "      <td>-0.518</td>\n",
        "    </tr>\n",
        "    <tr>\n",
        "      <th>P.psp8</th>\n",
        "      <td>  0.846</td>\n",
        "      <td>  1.067</td>\n",
        "      <td> 20</td>\n",
        "      <td> 40</td>\n",
        "      <td>-0.572</td>\n",
        "      <td>-0.587</td>\n",
        "      <td>-0.597</td>\n",
        "      <td>-0.520</td>\n",
        "    </tr>\n",
        "    <tr>\n",
        "      <th>S.psp8</th>\n",
        "      <td>  0.637</td>\n",
        "      <td>  0.046</td>\n",
        "      <td> 21</td>\n",
        "      <td> 41</td>\n",
        "      <td>-0.014</td>\n",
        "      <td>-0.018</td>\n",
        "      <td>-0.042</td>\n",
        "      <td>-0.035</td>\n",
        "    </tr>\n",
        "    <tr>\n",
        "      <th>Cl.psp8</th>\n",
        "      <td>  0.568</td>\n",
        "      <td>  0.721</td>\n",
        "      <td> 25</td>\n",
        "      <td> 45</td>\n",
        "      <td>-0.324</td>\n",
        "      <td>-0.318</td>\n",
        "      <td>-0.275</td>\n",
        "      <td>-0.300</td>\n",
        "    </tr>\n",
        "    <tr>\n",
        "      <th>Ar.psp8</th>\n",
        "      <td>  0.250</td>\n",
        "      <td>  0.012</td>\n",
        "      <td> 29</td>\n",
        "      <td> 49</td>\n",
        "      <td>   NaN</td>\n",
        "      <td>   NaN</td>\n",
        "      <td>   NaN</td>\n",
        "      <td>   NaN</td>\n",
        "    </tr>\n",
        "    <tr>\n",
        "      <th>K-sp.psp8</th>\n",
        "      <td>  0.166</td>\n",
        "      <td>  0.179</td>\n",
        "      <td> 34</td>\n",
        "      <td> 54</td>\n",
        "      <td>-0.265</td>\n",
        "      <td>-0.290</td>\n",
        "      <td>-0.204</td>\n",
        "      <td>-0.304</td>\n",
        "    </tr>\n",
        "    <tr>\n",
        "      <th>Ca-sp.psp8</th>\n",
        "      <td>  0.402</td>\n",
        "      <td>  0.095</td>\n",
        "      <td> 32</td>\n",
        "      <td> 52</td>\n",
        "      <td>-0.181</td>\n",
        "      <td>-0.160</td>\n",
        "      <td>-0.220</td>\n",
        "      <td>-0.201</td>\n",
        "    </tr>\n",
        "    <tr>\n",
        "      <th>Sc-sp.psp8</th>\n",
        "      <td>  1.468</td>\n",
        "      <td>  1.228</td>\n",
        "      <td> 39</td>\n",
        "      <td> 59</td>\n",
        "      <td>-0.027</td>\n",
        "      <td>-0.016</td>\n",
        "      <td>-0.033</td>\n",
        "      <td>-0.015</td>\n",
        "    </tr>\n",
        "    <tr>\n",
        "      <th>Ti-sp.psp8</th>\n",
        "      <td>  0.794</td>\n",
        "      <td>  0.900</td>\n",
        "      <td> 40</td>\n",
        "      <td> 60</td>\n",
        "      <td>-0.009</td>\n",
        "      <td>-0.033</td>\n",
        "      <td>-0.070</td>\n",
        "      <td>-0.069</td>\n",
        "    </tr>\n",
        "    <tr>\n",
        "      <th>V-sp.psp8</th>\n",
        "      <td>  0.808</td>\n",
        "      <td>  1.253</td>\n",
        "      <td> 40</td>\n",
        "      <td> 60</td>\n",
        "      <td>-0.029</td>\n",
        "      <td>-0.032</td>\n",
        "      <td>-0.074</td>\n",
        "      <td>-0.091</td>\n",
        "    </tr>\n",
        "    <tr>\n",
        "      <th>Cr-sp-ncon3.psp8</th>\n",
        "      <td>  4.372</td>\n",
        "      <td>  3.530</td>\n",
        "      <td> 47</td>\n",
        "      <td> 67</td>\n",
        "      <td>-0.330</td>\n",
        "      <td>-0.323</td>\n",
        "      <td>-0.361</td>\n",
        "      <td>-0.373</td>\n",
        "    </tr>\n",
        "    <tr>\n",
        "      <th>Cr-sp.psp8</th>\n",
        "      <td>  9.166</td>\n",
        "      <td>  8.582</td>\n",
        "      <td> 50</td>\n",
        "      <td> 70</td>\n",
        "      <td>-0.041</td>\n",
        "      <td>-0.057</td>\n",
        "      <td>-0.099</td>\n",
        "      <td>-0.104</td>\n",
        "    </tr>\n",
        "    <tr>\n",
        "      <th>Mn-sp.psp8</th>\n",
        "      <td> 11.615</td>\n",
        "      <td> 11.680</td>\n",
        "      <td> 63</td>\n",
        "      <td> 83</td>\n",
        "      <td>-0.046</td>\n",
        "      <td>-0.036</td>\n",
        "      <td>-0.044</td>\n",
        "      <td>-0.048</td>\n",
        "    </tr>\n",
        "    <tr>\n",
        "      <th>Fe-sp-high-ncon4.psp8</th>\n",
        "      <td>  6.243</td>\n",
        "      <td>  5.313</td>\n",
        "      <td> 65</td>\n",
        "      <td> 85</td>\n",
        "      <td>-0.067</td>\n",
        "      <td>-0.055</td>\n",
        "      <td>-0.153</td>\n",
        "      <td>-0.128</td>\n",
        "    </tr>\n",
        "    <tr>\n",
        "      <th>Fe-sp-high.psp8</th>\n",
        "      <td>  6.608</td>\n",
        "      <td>  5.733</td>\n",
        "      <td> 65</td>\n",
        "      <td> 85</td>\n",
        "      <td>-0.038</td>\n",
        "      <td>-0.025</td>\n",
        "      <td>-0.120</td>\n",
        "      <td>-0.099</td>\n",
        "    </tr>\n",
        "    <tr>\n",
        "      <th>Fe-sp.psp8</th>\n",
        "      <td> 11.856</td>\n",
        "      <td>  8.907</td>\n",
        "      <td> 44</td>\n",
        "      <td> 64</td>\n",
        "      <td>-0.062</td>\n",
        "      <td>-0.048</td>\n",
        "      <td>-0.147</td>\n",
        "      <td>-0.126</td>\n",
        "    </tr>\n",
        "    <tr>\n",
        "      <th>Co-sp-ncon3.psp8</th>\n",
        "      <td>  2.299</td>\n",
        "      <td>  2.452</td>\n",
        "      <td> 47</td>\n",
        "      <td> 67</td>\n",
        "      <td>-0.045</td>\n",
        "      <td>-0.032</td>\n",
        "      <td>-0.021</td>\n",
        "      <td>-0.061</td>\n",
        "    </tr>\n",
        "    <tr>\n",
        "      <th>Co-sp.psp8</th>\n",
        "      <td>  2.839</td>\n",
        "      <td>  2.098</td>\n",
        "      <td> 50</td>\n",
        "      <td> 70</td>\n",
        "      <td>-0.048</td>\n",
        "      <td>-0.032</td>\n",
        "      <td>-0.026</td>\n",
        "      <td>-0.060</td>\n",
        "    </tr>\n",
        "    <tr>\n",
        "      <th>Ni-sp.psp8</th>\n",
        "      <td>  1.458</td>\n",
        "      <td>  0.557</td>\n",
        "      <td> 50</td>\n",
        "      <td> 70</td>\n",
        "      <td> 0.114</td>\n",
        "      <td>-0.024</td>\n",
        "      <td>-0.036</td>\n",
        "      <td>-0.052</td>\n",
        "    </tr>\n",
        "    <tr>\n",
        "      <th>Cu-sp.psp8</th>\n",
        "      <td>  7.397</td>\n",
        "      <td>  0.852</td>\n",
        "      <td> 52</td>\n",
        "      <td> 72</td>\n",
        "      <td> 0.483</td>\n",
        "      <td>-0.040</td>\n",
        "      <td> 0.183</td>\n",
        "      <td> 0.228</td>\n",
        "    </tr>\n",
        "    <tr>\n",
        "      <th>Zn-sp-nonlcc.psp8</th>\n",
        "      <td>  0.041</td>\n",
        "      <td>  0.098</td>\n",
        "      <td> 38</td>\n",
        "      <td> 58</td>\n",
        "      <td>-0.134</td>\n",
        "      <td>-0.138</td>\n",
        "      <td>-0.104</td>\n",
        "      <td>-0.110</td>\n",
        "    </tr>\n",
        "    <tr>\n",
        "      <th>Zn-sp.psp8</th>\n",
        "      <td> 11.259</td>\n",
        "      <td>  0.385</td>\n",
        "      <td> 38</td>\n",
        "      <td> 58</td>\n",
        "      <td> 1.092</td>\n",
        "      <td> 0.217</td>\n",
        "      <td> 0.793</td>\n",
        "      <td>-0.196</td>\n",
        "    </tr>\n",
        "    <tr>\n",
        "      <th>Zn.psp8</th>\n",
        "      <td>  0.707</td>\n",
        "      <td>  0.591</td>\n",
        "      <td> 35</td>\n",
        "      <td> 55</td>\n",
        "      <td>-0.048</td>\n",
        "      <td>-0.057</td>\n",
        "      <td>-0.037</td>\n",
        "      <td>-0.051</td>\n",
        "    </tr>\n",
        "    <tr>\n",
        "      <th>Ga-d.psp8</th>\n",
        "      <td>  0.296</td>\n",
        "      <td>  0.332</td>\n",
        "      <td> 38</td>\n",
        "      <td> 58</td>\n",
        "      <td>-0.001</td>\n",
        "      <td>-0.037</td>\n",
        "      <td>-0.018</td>\n",
        "      <td>-0.061</td>\n",
        "    </tr>\n",
        "    <tr>\n",
        "      <th>Ga-low.psp8</th>\n",
        "      <td>  0.998</td>\n",
        "      <td>  1.032</td>\n",
        "      <td> 19</td>\n",
        "      <td> 39</td>\n",
        "      <td>-0.322</td>\n",
        "      <td>-0.327</td>\n",
        "      <td>-0.400</td>\n",
        "      <td>-0.405</td>\n",
        "    </tr>\n",
        "    <tr>\n",
        "      <th>Ge-d.psp8</th>\n",
        "      <td>  0.267</td>\n",
        "      <td>  0.244</td>\n",
        "      <td> 37</td>\n",
        "      <td> 57</td>\n",
        "      <td>-0.026</td>\n",
        "      <td>-0.025</td>\n",
        "      <td>-0.044</td>\n",
        "      <td>-0.049</td>\n",
        "    </tr>\n",
        "    <tr>\n",
        "      <th>Ge-low.psp8</th>\n",
        "      <td>  0.510</td>\n",
        "      <td>  0.641</td>\n",
        "      <td> 20</td>\n",
        "      <td> 40</td>\n",
        "      <td>-0.258</td>\n",
        "      <td>-0.274</td>\n",
        "      <td>-0.252</td>\n",
        "      <td>-0.266</td>\n",
        "    </tr>\n",
        "    <tr>\n",
        "      <th>As-d.psp8</th>\n",
        "      <td>  0.169</td>\n",
        "      <td>  0.108</td>\n",
        "      <td> 40</td>\n",
        "      <td> 60</td>\n",
        "      <td>-0.037</td>\n",
        "      <td>-0.038</td>\n",
        "      <td>-0.041</td>\n",
        "      <td>-0.050</td>\n",
        "    </tr>\n",
        "    <tr>\n",
        "      <th>As.psp8</th>\n",
        "      <td>  0.685</td>\n",
        "      <td>  0.772</td>\n",
        "      <td> 22</td>\n",
        "      <td> 42</td>\n",
        "      <td>-0.128</td>\n",
        "      <td>-0.131</td>\n",
        "      <td>-0.134</td>\n",
        "      <td>-0.143</td>\n",
        "    </tr>\n",
        "    <tr>\n",
        "      <th>Se-d.psp8</th>\n",
        "      <td>  0.166</td>\n",
        "      <td>  0.167</td>\n",
        "      <td> 39</td>\n",
        "      <td> 59</td>\n",
        "      <td>-0.074</td>\n",
        "      <td>-0.093</td>\n",
        "      <td>-0.063</td>\n",
        "      <td>-0.081</td>\n",
        "    </tr>\n",
        "    <tr>\n",
        "      <th>Se-low.psp8</th>\n",
        "      <td>  0.245</td>\n",
        "      <td>  0.334</td>\n",
        "      <td> 18</td>\n",
        "      <td> 38</td>\n",
        "      <td>-0.100</td>\n",
        "      <td>-0.108</td>\n",
        "      <td>-0.101</td>\n",
        "      <td>-0.108</td>\n",
        "    </tr>\n",
        "    <tr>\n",
        "      <th>Br-d.psp8</th>\n",
        "      <td>  0.695</td>\n",
        "      <td>  0.036</td>\n",
        "      <td> 36</td>\n",
        "      <td> 56</td>\n",
        "      <td>-0.194</td>\n",
        "      <td>-0.189</td>\n",
        "      <td>-0.175</td>\n",
        "      <td>-0.143</td>\n",
        "    </tr>\n",
        "    <tr>\n",
        "      <th>Br.psp8</th>\n",
        "      <td>  0.031</td>\n",
        "      <td>  0.087</td>\n",
        "      <td> 20</td>\n",
        "      <td> 40</td>\n",
        "      <td>-0.169</td>\n",
        "      <td>-0.183</td>\n",
        "      <td>-0.152</td>\n",
        "      <td>-0.144</td>\n",
        "    </tr>\n",
        "    <tr>\n",
        "      <th>Kr-d.psp8</th>\n",
        "      <td>  0.441</td>\n",
        "      <td>  0.116</td>\n",
        "      <td> 43</td>\n",
        "      <td> 63</td>\n",
        "      <td>   NaN</td>\n",
        "      <td>   NaN</td>\n",
        "      <td>   NaN</td>\n",
        "      <td>   NaN</td>\n",
        "    </tr>\n",
        "    <tr>\n",
        "      <th>Kr.psp8</th>\n",
        "      <td>  0.038</td>\n",
        "      <td>  0.029</td>\n",
        "      <td> 24</td>\n",
        "      <td> 44</td>\n",
        "      <td>   NaN</td>\n",
        "      <td>   NaN</td>\n",
        "      <td>   NaN</td>\n",
        "      <td>   NaN</td>\n",
        "    </tr>\n",
        "    <tr>\n",
        "      <th>Rb-sp.psp8</th>\n",
        "      <td>  1.912</td>\n",
        "      <td>  0.281</td>\n",
        "      <td> 21</td>\n",
        "      <td> 41</td>\n",
        "      <td>-0.155</td>\n",
        "      <td>-0.404</td>\n",
        "      <td>-0.210</td>\n",
        "      <td>-0.392</td>\n",
        "    </tr>\n",
        "    <tr>\n",
        "      <th>Sr-sp.psp8</th>\n",
        "      <td>  1.347</td>\n",
        "      <td>  1.334</td>\n",
        "      <td> 32</td>\n",
        "      <td> 52</td>\n",
        "      <td>-0.174</td>\n",
        "      <td>-0.174</td>\n",
        "      <td>-0.152</td>\n",
        "      <td>-0.180</td>\n",
        "    </tr>\n",
        "    <tr>\n",
        "      <th>Y-sp.psp8</th>\n",
        "      <td>  0.953</td>\n",
        "      <td>  1.021</td>\n",
        "      <td> 34</td>\n",
        "      <td> 54</td>\n",
        "      <td>-0.082</td>\n",
        "      <td>-0.073</td>\n",
        "      <td>-0.084</td>\n",
        "      <td>-0.082</td>\n",
        "    </tr>\n",
        "    <tr>\n",
        "      <th>Zr-sp.psp8</th>\n",
        "      <td>  0.821</td>\n",
        "      <td>  0.787</td>\n",
        "      <td> 31</td>\n",
        "      <td> 51</td>\n",
        "      <td>-0.014</td>\n",
        "      <td>-0.018</td>\n",
        "      <td>-0.035</td>\n",
        "      <td>-0.026</td>\n",
        "    </tr>\n",
        "    <tr>\n",
        "      <th>Nb-sp.psp8</th>\n",
        "      <td>  1.234</td>\n",
        "      <td>  1.427</td>\n",
        "      <td> 41</td>\n",
        "      <td> 61</td>\n",
        "      <td>-0.010</td>\n",
        "      <td>-0.011</td>\n",
        "      <td>-0.046</td>\n",
        "      <td>-0.041</td>\n",
        "    </tr>\n",
        "    <tr>\n",
        "      <th>Mo-sp.psp8</th>\n",
        "      <td>  1.475</td>\n",
        "      <td>  1.420</td>\n",
        "      <td> 38</td>\n",
        "      <td> 58</td>\n",
        "      <td>-0.053</td>\n",
        "      <td>-0.053</td>\n",
        "      <td>-0.119</td>\n",
        "      <td>-0.125</td>\n",
        "    </tr>\n",
        "    <tr>\n",
        "      <th>Tc-sp.psp8</th>\n",
        "      <td>  1.699</td>\n",
        "      <td>  1.682</td>\n",
        "      <td> 44</td>\n",
        "      <td> 64</td>\n",
        "      <td>-0.025</td>\n",
        "      <td>-0.027</td>\n",
        "      <td>-0.005</td>\n",
        "      <td>-0.005</td>\n",
        "    </tr>\n",
        "    <tr>\n",
        "      <th>Ru-sp-ncon3.psp8</th>\n",
        "      <td>  2.093</td>\n",
        "      <td>  1.779</td>\n",
        "      <td> 40</td>\n",
        "      <td> 60</td>\n",
        "      <td>-0.023</td>\n",
        "      <td>-0.020</td>\n",
        "      <td>-0.054</td>\n",
        "      <td>-0.046</td>\n",
        "    </tr>\n",
        "    <tr>\n",
        "      <th>Ru-sp.psp8</th>\n",
        "      <td>  2.089</td>\n",
        "      <td>  2.118</td>\n",
        "      <td> 42</td>\n",
        "      <td> 62</td>\n",
        "      <td>-0.009</td>\n",
        "      <td>-0.013</td>\n",
        "      <td>-0.039</td>\n",
        "      <td>-0.032</td>\n",
        "    </tr>\n",
        "    <tr>\n",
        "      <th>Rh-sp-ncon3.psp8</th>\n",
        "      <td>  1.890</td>\n",
        "      <td>  2.013</td>\n",
        "      <td> 40</td>\n",
        "      <td> 60</td>\n",
        "      <td>-0.029</td>\n",
        "      <td>-0.044</td>\n",
        "      <td>-0.070</td>\n",
        "      <td>-0.077</td>\n",
        "    </tr>\n",
        "    <tr>\n",
        "      <th>Rh-sp.psp8</th>\n",
        "      <td>  2.696</td>\n",
        "      <td>  2.533</td>\n",
        "      <td> 41</td>\n",
        "      <td> 61</td>\n",
        "      <td>-0.003</td>\n",
        "      <td>-0.017</td>\n",
        "      <td>-0.039</td>\n",
        "      <td>-0.048</td>\n",
        "    </tr>\n",
        "    <tr>\n",
        "      <th>Pd-sp.psp8</th>\n",
        "      <td>  1.477</td>\n",
        "      <td>  1.219</td>\n",
        "      <td> 39</td>\n",
        "      <td> 59</td>\n",
        "      <td>-0.081</td>\n",
        "      <td>-0.097</td>\n",
        "      <td>-0.120</td>\n",
        "      <td>-0.142</td>\n",
        "    </tr>\n",
        "    <tr>\n",
        "      <th>Pd.psp8</th>\n",
        "      <td>  6.461</td>\n",
        "      <td>  6.787</td>\n",
        "      <td> 39</td>\n",
        "      <td> 59</td>\n",
        "      <td>-0.455</td>\n",
        "      <td>-0.476</td>\n",
        "      <td>-0.423</td>\n",
        "      <td>-0.441</td>\n",
        "    </tr>\n",
        "    <tr>\n",
        "      <th>Ag-sp.psp8</th>\n",
        "      <td>  1.978</td>\n",
        "      <td>  0.520</td>\n",
        "      <td> 39</td>\n",
        "      <td> 59</td>\n",
        "      <td>-0.046</td>\n",
        "      <td>-0.062</td>\n",
        "      <td>-0.049</td>\n",
        "      <td>-0.087</td>\n",
        "    </tr>\n",
        "    <tr>\n",
        "      <th>Ag.psp8</th>\n",
        "      <td>  0.598</td>\n",
        "      <td>  0.563</td>\n",
        "      <td> 39</td>\n",
        "      <td> 59</td>\n",
        "      <td> 0.065</td>\n",
        "      <td> 0.060</td>\n",
        "      <td>-0.006</td>\n",
        "      <td>-0.010</td>\n",
        "    </tr>\n",
        "    <tr>\n",
        "      <th>Cd-sp.psp8</th>\n",
        "      <td>  2.918</td>\n",
        "      <td>  3.039</td>\n",
        "      <td> 49</td>\n",
        "      <td> 69</td>\n",
        "      <td>-0.040</td>\n",
        "      <td>-0.019</td>\n",
        "      <td>-0.038</td>\n",
        "      <td>-0.015</td>\n",
        "    </tr>\n",
        "    <tr>\n",
        "      <th>Cd.psp8</th>\n",
        "      <td>  1.876</td>\n",
        "      <td>  1.857</td>\n",
        "      <td> 39</td>\n",
        "      <td> 59</td>\n",
        "      <td>-0.237</td>\n",
        "      <td>-0.237</td>\n",
        "      <td>-0.248</td>\n",
        "      <td>-0.240</td>\n",
        "    </tr>\n",
        "    <tr>\n",
        "      <th>In-d.psp8</th>\n",
        "      <td>  0.050</td>\n",
        "      <td>  0.066</td>\n",
        "      <td> 33</td>\n",
        "      <td> 53</td>\n",
        "      <td>-0.095</td>\n",
        "      <td>-0.098</td>\n",
        "      <td>-0.106</td>\n",
        "      <td>-0.112</td>\n",
        "    </tr>\n",
        "    <tr>\n",
        "      <th>Sn-d.psp8</th>\n",
        "      <td>  0.540</td>\n",
        "      <td>  0.475</td>\n",
        "      <td> 34</td>\n",
        "      <td> 54</td>\n",
        "      <td> 0.004</td>\n",
        "      <td> 0.009</td>\n",
        "      <td> 0.015</td>\n",
        "      <td> 0.026</td>\n",
        "    </tr>\n",
        "    <tr>\n",
        "      <th>Sn.psp8</th>\n",
        "      <td>  0.997</td>\n",
        "      <td>  0.999</td>\n",
        "      <td> 24</td>\n",
        "      <td> 44</td>\n",
        "      <td>-0.151</td>\n",
        "      <td>-0.150</td>\n",
        "      <td>-0.116</td>\n",
        "      <td>-0.117</td>\n",
        "    </tr>\n",
        "    <tr>\n",
        "      <th>Sb-d.psp8</th>\n",
        "      <td>  0.640</td>\n",
        "      <td>  0.565</td>\n",
        "      <td> 38</td>\n",
        "      <td> 58</td>\n",
        "      <td> 0.025</td>\n",
        "      <td>-0.194</td>\n",
        "      <td> 0.087</td>\n",
        "      <td> 0.035</td>\n",
        "    </tr>\n",
        "    <tr>\n",
        "      <th>Sb.psp8</th>\n",
        "      <td>  0.458</td>\n",
        "      <td>  0.540</td>\n",
        "      <td> 12</td>\n",
        "      <td> 32</td>\n",
        "      <td>-0.107</td>\n",
        "      <td>-0.082</td>\n",
        "      <td>-0.089</td>\n",
        "      <td>-0.087</td>\n",
        "    </tr>\n",
        "    <tr>\n",
        "      <th>Te-d.psp8</th>\n",
        "      <td>  0.734</td>\n",
        "      <td>    NaN</td>\n",
        "      <td> 36</td>\n",
        "      <td> 56</td>\n",
        "      <td>   NaN</td>\n",
        "      <td>   NaN</td>\n",
        "      <td>   NaN</td>\n",
        "      <td>   NaN</td>\n",
        "    </tr>\n",
        "    <tr>\n",
        "      <th>Te.psp8</th>\n",
        "      <td>  0.570</td>\n",
        "      <td>  0.415</td>\n",
        "      <td> 13</td>\n",
        "      <td> 33</td>\n",
        "      <td> 0.081</td>\n",
        "      <td> 0.068</td>\n",
        "      <td> 0.071</td>\n",
        "      <td> 0.061</td>\n",
        "    </tr>\n",
        "    <tr>\n",
        "      <th>I-d.psp8</th>\n",
        "      <td>  0.892</td>\n",
        "      <td>  0.861</td>\n",
        "      <td> 36</td>\n",
        "      <td> 56</td>\n",
        "      <td> 0.052</td>\n",
        "      <td> 0.047</td>\n",
        "      <td> 0.150</td>\n",
        "      <td> 0.139</td>\n",
        "    </tr>\n",
        "    <tr>\n",
        "      <th>I.psp8</th>\n",
        "      <td>  0.703</td>\n",
        "      <td>  0.677</td>\n",
        "      <td> 33</td>\n",
        "      <td> 53</td>\n",
        "      <td> 0.018</td>\n",
        "      <td> 0.018</td>\n",
        "      <td> 0.115</td>\n",
        "      <td> 0.112</td>\n",
        "    </tr>\n",
        "    <tr>\n",
        "      <th>Xe-d.psp8</th>\n",
        "      <td>  0.052</td>\n",
        "      <td>  0.037</td>\n",
        "      <td> 42</td>\n",
        "      <td> 62</td>\n",
        "      <td>   NaN</td>\n",
        "      <td>   NaN</td>\n",
        "      <td>   NaN</td>\n",
        "      <td>   NaN</td>\n",
        "    </tr>\n",
        "    <tr>\n",
        "      <th>Xe.psp8</th>\n",
        "      <td>  0.048</td>\n",
        "      <td>  0.039</td>\n",
        "      <td> 33</td>\n",
        "      <td> 53</td>\n",
        "      <td>   NaN</td>\n",
        "      <td>   NaN</td>\n",
        "      <td>   NaN</td>\n",
        "      <td>   NaN</td>\n",
        "    </tr>\n",
        "    <tr>\n",
        "      <th>Cs-sp.psp8</th>\n",
        "      <td>  0.111</td>\n",
        "      <td>  0.117</td>\n",
        "      <td> 20</td>\n",
        "      <td> 40</td>\n",
        "      <td>-0.386</td>\n",
        "      <td>-0.418</td>\n",
        "      <td>-0.404</td>\n",
        "      <td>-0.429</td>\n",
        "    </tr>\n",
        "    <tr>\n",
        "      <th>Ba-sp.psp8</th>\n",
        "      <td>  1.008</td>\n",
        "      <td>  0.947</td>\n",
        "      <td> 20</td>\n",
        "      <td> 40</td>\n",
        "      <td>-0.120</td>\n",
        "      <td>-0.097</td>\n",
        "      <td>-0.060</td>\n",
        "      <td>-0.044</td>\n",
        "    </tr>\n",
        "    <tr>\n",
        "      <th>Hf-p.psp8</th>\n",
        "      <td>  2.527</td>\n",
        "      <td>  1.997</td>\n",
        "      <td> 18</td>\n",
        "      <td> 38</td>\n",
        "      <td>-0.430</td>\n",
        "      <td>-0.394</td>\n",
        "      <td>-0.363</td>\n",
        "      <td>-0.361</td>\n",
        "    </tr>\n",
        "    <tr>\n",
        "      <th>Hf-sp.psp8</th>\n",
        "      <td>  4.005</td>\n",
        "      <td>  3.994</td>\n",
        "      <td> 38</td>\n",
        "      <td> 58</td>\n",
        "      <td>-0.337</td>\n",
        "      <td>-0.338</td>\n",
        "      <td>-0.240</td>\n",
        "      <td>-0.241</td>\n",
        "    </tr>\n",
        "    <tr>\n",
        "      <th>Hf-spdf.psp8</th>\n",
        "      <td>  0.244</td>\n",
        "      <td>  0.372</td>\n",
        "      <td> 64</td>\n",
        "      <td> 84</td>\n",
        "      <td>-0.031</td>\n",
        "      <td>-0.042</td>\n",
        "      <td>-0.034</td>\n",
        "      <td>-0.072</td>\n",
        "    </tr>\n",
        "    <tr>\n",
        "      <th>Ta-p.psp8</th>\n",
        "      <td>  1.220</td>\n",
        "      <td>  0.729</td>\n",
        "      <td> 19</td>\n",
        "      <td> 39</td>\n",
        "      <td>-0.045</td>\n",
        "      <td>-0.066</td>\n",
        "      <td>-0.040</td>\n",
        "      <td>-0.051</td>\n",
        "    </tr>\n",
        "    <tr>\n",
        "      <th>W-p.psp8</th>\n",
        "      <td>  3.417</td>\n",
        "      <td>  2.710</td>\n",
        "      <td> 19</td>\n",
        "      <td> 39</td>\n",
        "      <td>-0.100</td>\n",
        "      <td>-0.102</td>\n",
        "      <td>-0.144</td>\n",
        "      <td>-0.142</td>\n",
        "    </tr>\n",
        "    <tr>\n",
        "      <th>W-sp.psp8</th>\n",
        "      <td> 12.634</td>\n",
        "      <td> 12.581</td>\n",
        "      <td> 36</td>\n",
        "      <td> 56</td>\n",
        "      <td>-0.385</td>\n",
        "      <td>-0.391</td>\n",
        "      <td>-0.447</td>\n",
        "      <td>-0.443</td>\n",
        "    </tr>\n",
        "    <tr>\n",
        "      <th>Re-p.psp8</th>\n",
        "      <td>  0.390</td>\n",
        "      <td>  0.684</td>\n",
        "      <td> 20</td>\n",
        "      <td> 40</td>\n",
        "      <td>-0.108</td>\n",
        "      <td>-0.109</td>\n",
        "      <td>-0.130</td>\n",
        "      <td>-0.138</td>\n",
        "    </tr>\n",
        "    <tr>\n",
        "      <th>Os-p.psp8</th>\n",
        "      <td>  1.149</td>\n",
        "      <td>  0.885</td>\n",
        "      <td> 20</td>\n",
        "      <td> 40</td>\n",
        "      <td>-0.036</td>\n",
        "      <td>-0.031</td>\n",
        "      <td>-0.075</td>\n",
        "      <td>-0.069</td>\n",
        "    </tr>\n",
        "    <tr>\n",
        "      <th>Ir-p.psp8</th>\n",
        "      <td>  1.526</td>\n",
        "      <td>  1.394</td>\n",
        "      <td> 25</td>\n",
        "      <td> 45</td>\n",
        "      <td>-0.193</td>\n",
        "      <td>-0.199</td>\n",
        "      <td>-0.212</td>\n",
        "      <td>-0.212</td>\n",
        "    </tr>\n",
        "    <tr>\n",
        "      <th>Pt-p.psp8</th>\n",
        "      <td>  2.558</td>\n",
        "      <td>  2.445</td>\n",
        "      <td> 27</td>\n",
        "      <td> 47</td>\n",
        "      <td>-0.207</td>\n",
        "      <td>-0.213</td>\n",
        "      <td>-0.252</td>\n",
        "      <td>-0.255</td>\n",
        "    </tr>\n",
        "    <tr>\n",
        "      <th>Pt-sp.psp8</th>\n",
        "      <td>  4.839</td>\n",
        "      <td>  4.926</td>\n",
        "      <td> 41</td>\n",
        "      <td> 61</td>\n",
        "      <td>-0.326</td>\n",
        "      <td>-0.326</td>\n",
        "      <td>-0.363</td>\n",
        "      <td>-0.362</td>\n",
        "    </tr>\n",
        "    <tr>\n",
        "      <th>Au-p.psp8</th>\n",
        "      <td>  0.507</td>\n",
        "      <td>  0.584</td>\n",
        "      <td> 27</td>\n",
        "      <td> 47</td>\n",
        "      <td>-0.082</td>\n",
        "      <td>-0.031</td>\n",
        "      <td>-0.027</td>\n",
        "      <td>-0.034</td>\n",
        "    </tr>\n",
        "    <tr>\n",
        "      <th>Au-sp.psp8</th>\n",
        "      <td>  1.182</td>\n",
        "      <td>  1.227</td>\n",
        "      <td> 36</td>\n",
        "      <td> 56</td>\n",
        "      <td>-0.190</td>\n",
        "      <td>-0.143</td>\n",
        "      <td>-0.137</td>\n",
        "      <td>-0.137</td>\n",
        "    </tr>\n",
        "    <tr>\n",
        "      <th>Hg-sp.psp8</th>\n",
        "      <td>  0.573</td>\n",
        "      <td>  0.581</td>\n",
        "      <td> 31</td>\n",
        "      <td> 51</td>\n",
        "      <td>   NaN</td>\n",
        "      <td>   NaN</td>\n",
        "      <td>   NaN</td>\n",
        "      <td>   NaN</td>\n",
        "    </tr>\n",
        "    <tr>\n",
        "      <th>Hg.psp8</th>\n",
        "      <td>  0.303</td>\n",
        "      <td>  0.379</td>\n",
        "      <td> 25</td>\n",
        "      <td> 45</td>\n",
        "      <td>   NaN</td>\n",
        "      <td>   NaN</td>\n",
        "      <td>   NaN</td>\n",
        "      <td>   NaN</td>\n",
        "    </tr>\n",
        "    <tr>\n",
        "      <th>Tl-d.psp8</th>\n",
        "      <td>  0.205</td>\n",
        "      <td>  0.206</td>\n",
        "      <td> 29</td>\n",
        "      <td> 49</td>\n",
        "      <td>-0.005</td>\n",
        "      <td>-0.003</td>\n",
        "      <td>-0.107</td>\n",
        "      <td>-0.098</td>\n",
        "    </tr>\n",
        "    <tr>\n",
        "      <th>Pb-d.psp8</th>\n",
        "      <td>  0.125</td>\n",
        "      <td>  0.168</td>\n",
        "      <td> 26</td>\n",
        "      <td> 46</td>\n",
        "      <td>-0.031</td>\n",
        "      <td>-0.037</td>\n",
        "      <td>-0.038</td>\n",
        "      <td>-0.025</td>\n",
        "    </tr>\n",
        "    <tr>\n",
        "      <th>Bi-d.psp8</th>\n",
        "      <td>  0.163</td>\n",
        "      <td>  0.217</td>\n",
        "      <td> 31</td>\n",
        "      <td> 51</td>\n",
        "      <td>-0.010</td>\n",
        "      <td>-0.015</td>\n",
        "      <td>-0.021</td>\n",
        "      <td>-0.020</td>\n",
        "    </tr>\n",
        "    <tr>\n",
        "      <th>Po-d.psp8</th>\n",
        "      <td>  0.251</td>\n",
        "      <td>  0.280</td>\n",
        "      <td> 30</td>\n",
        "      <td> 50</td>\n",
        "      <td>   NaN</td>\n",
        "      <td>   NaN</td>\n",
        "      <td>   NaN</td>\n",
        "      <td>   NaN</td>\n",
        "    </tr>\n",
        "    <tr>\n",
        "      <th>Rn-d.psp8</th>\n",
        "      <td>  0.063</td>\n",
        "      <td>  0.069</td>\n",
        "      <td> 34</td>\n",
        "      <td> 54</td>\n",
        "      <td>   NaN</td>\n",
        "      <td>   NaN</td>\n",
        "      <td>   NaN</td>\n",
        "      <td>   NaN</td>\n",
        "    </tr>\n",
        "    <tr>\n",
        "      <th>Rn.psp8</th>\n",
        "      <td>  0.056</td>\n",
        "      <td>  0.047</td>\n",
        "      <td> 15</td>\n",
        "      <td> 35</td>\n",
        "      <td>   NaN</td>\n",
        "      <td>   NaN</td>\n",
        "      <td>   NaN</td>\n",
        "      <td>   NaN</td>\n",
        "    </tr>\n",
        "  </tbody>\n",
        "</table>"
       ],
       "metadata": {},
       "output_type": "pyout",
       "prompt_number": 6,
       "text": [
        "<IPython.core.display.HTML at 0x110530490>"
       ]
      }
     ],
     "prompt_number": 6
    },
    {
     "cell_type": "heading",
     "level": 1,
     "metadata": {},
     "source": [
      "Statistical parameters:"
     ]
    },
    {
     "cell_type": "code",
     "collapsed": false,
     "input": [
      "trials.describe()"
     ],
     "language": "python",
     "metadata": {},
     "outputs": [
      {
       "html": [
        "<div style=\"max-height:1000px;max-width:1500px;overflow:auto;\">\n",
        "<table border=\"1\" class=\"dataframe\">\n",
        "  <thead>\n",
        "    <tr style=\"text-align: right;\">\n",
        "      <th></th>\n",
        "      <th>low_dfact_meV</th>\n",
        "      <th>high_dfact_meV</th>\n",
        "      <th>low_ecut</th>\n",
        "      <th>high_ecut</th>\n",
        "      <th>low_gbrv_fcc_a0_rel_err</th>\n",
        "      <th>high_gbrv_fcc_a0_rel_err</th>\n",
        "      <th>low_gbrv_bcc_a0_rel_err</th>\n",
        "      <th>high_gbrv_bcc_a0_rel_err</th>\n",
        "    </tr>\n",
        "  </thead>\n",
        "  <tbody>\n",
        "    <tr>\n",
        "      <th>count</th>\n",
        "      <td> 126.000</td>\n",
        "      <td> 123.000</td>\n",
        "      <td> 126.000</td>\n",
        "      <td> 126.000</td>\n",
        "      <td> 106.000</td>\n",
        "      <td> 106.000</td>\n",
        "      <td> 107.000</td>\n",
        "      <td> 106.000</td>\n",
        "    </tr>\n",
        "    <tr>\n",
        "      <th>mean</th>\n",
        "      <td>   2.021</td>\n",
        "      <td>   1.633</td>\n",
        "      <td>  34.857</td>\n",
        "      <td>  54.857</td>\n",
        "      <td>  -0.063</td>\n",
        "      <td>  -0.105</td>\n",
        "      <td>  -0.073</td>\n",
        "      <td>  -0.110</td>\n",
        "    </tr>\n",
        "    <tr>\n",
        "      <th>std</th>\n",
        "      <td>   2.901</td>\n",
        "      <td>   2.278</td>\n",
        "      <td>  10.898</td>\n",
        "      <td>  10.898</td>\n",
        "      <td>   0.208</td>\n",
        "      <td>   0.153</td>\n",
        "      <td>   0.196</td>\n",
        "      <td>   0.156</td>\n",
        "    </tr>\n",
        "    <tr>\n",
        "      <th>min</th>\n",
        "      <td>   0.012</td>\n",
        "      <td>   0.012</td>\n",
        "      <td>  12.000</td>\n",
        "      <td>  32.000</td>\n",
        "      <td>  -0.572</td>\n",
        "      <td>  -0.589</td>\n",
        "      <td>  -0.597</td>\n",
        "      <td>  -0.564</td>\n",
        "    </tr>\n",
        "    <tr>\n",
        "      <th>25%</th>\n",
        "      <td>   0.336</td>\n",
        "      <td>   0.291</td>\n",
        "      <td>  27.000</td>\n",
        "      <td>  47.000</td>\n",
        "      <td>  -0.150</td>\n",
        "      <td>  -0.171</td>\n",
        "      <td>  -0.149</td>\n",
        "      <td>  -0.155</td>\n",
        "    </tr>\n",
        "    <tr>\n",
        "      <th>50%</th>\n",
        "      <td>   0.932</td>\n",
        "      <td>   0.821</td>\n",
        "      <td>  36.000</td>\n",
        "      <td>  56.000</td>\n",
        "      <td>  -0.046</td>\n",
        "      <td>  -0.061</td>\n",
        "      <td>  -0.074</td>\n",
        "      <td>  -0.087</td>\n",
        "    </tr>\n",
        "    <tr>\n",
        "      <th>75%</th>\n",
        "      <td>   2.173</td>\n",
        "      <td>   1.992</td>\n",
        "      <td>  40.000</td>\n",
        "      <td>  60.000</td>\n",
        "      <td>  -0.006</td>\n",
        "      <td>  -0.022</td>\n",
        "      <td>  -0.023</td>\n",
        "      <td>  -0.034</td>\n",
        "    </tr>\n",
        "    <tr>\n",
        "      <th>max</th>\n",
        "      <td>  16.797</td>\n",
        "      <td>  12.581</td>\n",
        "      <td>  65.000</td>\n",
        "      <td>  85.000</td>\n",
        "      <td>   1.092</td>\n",
        "      <td>   0.244</td>\n",
        "      <td>   0.793</td>\n",
        "      <td>   0.296</td>\n",
        "    </tr>\n",
        "  </tbody>\n",
        "</table>\n",
        "</div>"
       ],
       "metadata": {},
       "output_type": "pyout",
       "prompt_number": 7,
       "text": [
        "       low_dfact_meV  high_dfact_meV  low_ecut  high_ecut  \\\n",
        "count        126.000         123.000   126.000    126.000   \n",
        "mean           2.021           1.633    34.857     54.857   \n",
        "std            2.901           2.278    10.898     10.898   \n",
        "min            0.012           0.012    12.000     32.000   \n",
        "25%            0.336           0.291    27.000     47.000   \n",
        "50%            0.932           0.821    36.000     56.000   \n",
        "75%            2.173           1.992    40.000     60.000   \n",
        "max           16.797          12.581    65.000     85.000   \n",
        "\n",
        "       low_gbrv_fcc_a0_rel_err  high_gbrv_fcc_a0_rel_err  \\\n",
        "count                  106.000                   106.000   \n",
        "mean                    -0.063                    -0.105   \n",
        "std                      0.208                     0.153   \n",
        "min                     -0.572                    -0.589   \n",
        "25%                     -0.150                    -0.171   \n",
        "50%                     -0.046                    -0.061   \n",
        "75%                     -0.006                    -0.022   \n",
        "max                      1.092                     0.244   \n",
        "\n",
        "       low_gbrv_bcc_a0_rel_err  high_gbrv_bcc_a0_rel_err  \n",
        "count                  107.000                   106.000  \n",
        "mean                    -0.073                    -0.110  \n",
        "std                      0.196                     0.156  \n",
        "min                     -0.597                    -0.564  \n",
        "25%                     -0.149                    -0.155  \n",
        "50%                     -0.074                    -0.087  \n",
        "75%                     -0.023                    -0.034  \n",
        "max                      0.793                     0.296  "
       ]
      }
     ],
     "prompt_number": 7
    },
    {
     "cell_type": "heading",
     "level": 1,
     "metadata": {},
     "source": [
      "Validation results for the different rows of the periodic table:"
     ]
    },
    {
     "cell_type": "code",
     "collapsed": false,
     "input": [
      "# Here there's a bug in the x-ticks due to mpld3: \n",
      "# See https://github.com/jakevdp/mpld3/issues/22\n",
      "#%matplotlib inline\n",
      "###%%javascript\n",
      "#### IPython.OutputArea.auto_scroll_threshold = 9999;\n",
      "\n",
      "#import pylab\n",
      "#pylab.rcParams['figure.figsize'] = (25.0, 10.0)\n",
      "\n",
      "#for row in range(1,7):\n",
      "#    print(\"Row: %s\" % row)\n",
      "#    alldata.select_rows(row).plot_trials()"
     ],
     "language": "python",
     "metadata": {},
     "outputs": [],
     "prompt_number": 8
    },
    {
     "cell_type": "code",
     "collapsed": false,
     "input": [
      "#for z in pseudos.zlist: \n",
      "#    pseudos_z = pseudos[z]\n",
      "#    if len(pseudos_z) > 1:\n",
      "#        print(\"Pseudos with Z %s\" % z)\n",
      "#        try:\n",
      "#            pseudos_z.dojo_compare()\n",
      "#        except:\n",
      "#            print(\"Exception for Z %s\" % z)"
     ],
     "language": "python",
     "metadata": {},
     "outputs": [],
     "prompt_number": 9
    }
   ],
   "metadata": {}
  }
 ]
}