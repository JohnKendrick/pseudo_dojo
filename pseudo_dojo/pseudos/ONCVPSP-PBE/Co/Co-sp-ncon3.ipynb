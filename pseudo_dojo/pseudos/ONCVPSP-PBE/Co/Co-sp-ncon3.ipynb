{
 "metadata": {},
 "nbformat": 3,
 "nbformat_minor": 0,
 "worksheets": [
  {
   "cells": [
    {
     "cell_type": "heading",
     "metadata": {},
     "source": [
      "This is an auto-generated notebook for Co-sp-ncon3.psp8"
     ]
    },
    {
     "cell_type": "code",
     "collapsed": false,
     "input": [
      "from __future__ import print_function\n",
      "import mpld3\n",
      "from mpld3 import plugins as plugs\n",
      "plugs.DEFAULT_PLUGINS = [plugs.Reset(), plugs.Zoom(), plugs.BoxZoom(), plugs.MousePosition()]\n",
      "mpld3.enable_notebook()\n",
      "import seaborn as sns\n",
      "#sns.set(style=\"dark\", palette=\"Set2\")\n",
      "sns.set(style='ticks', palette='Set2')"
     ],
     "language": "python",
     "metadata": {},
     "outputs": []
    },
    {
     "cell_type": "code",
     "collapsed": false,
     "input": [
      "# Construct the pseudo object and get the DojoReport\n",
      "from pymatgen.io.abinitio.pseudos import Pseudo\n",
      "pseudo = Pseudo.from_file('Co-sp-ncon3.psp8')\n",
      "report = pseudo.dojo_report"
     ],
     "language": "python",
     "metadata": {},
     "outputs": []
    },
    {
     "cell_type": "heading",
     "metadata": {},
     "source": [
      "ONCVPSP Input File:"
     ]
    },
    {
     "cell_type": "code",
     "collapsed": false,
     "input": [
      "input_file = pseudo.filepath.replace(\".psp8\", \".in\") \n",
      "with open(input_file, \"rt\") as fh:\n",
      "    for line in fh: print(line, end=\"\")"
     ],
     "language": "python",
     "metadata": {},
     "outputs": []
    },
    {
     "cell_type": "code",
     "collapsed": false,
     "input": [
      "# Get data from the output file\n",
      "from pseudo_dojo.ppcodes.oncvpsp import OncvOutputParser, PseudoGenDataPlotter\n",
      "onc_parser = OncvOutputParser(pseudo.filepath.replace(\".psp8\", \".out\"))\n",
      "# Parse the file and build the plotter\n",
      "onc_parser.scan()\n",
      "plotter = onc_parser.make_plotter()"
     ],
     "language": "python",
     "metadata": {},
     "outputs": []
    },
    {
     "cell_type": "heading",
     "metadata": {},
     "source": [
      "AE/PS radial wavefunctions $\\phi(r)$:"
     ]
    },
    {
     "cell_type": "code",
     "collapsed": false,
     "input": [
      "plotter.plot_radial_wfs(show=False)"
     ],
     "language": "python",
     "metadata": {},
     "outputs": []
    },
    {
     "cell_type": "heading",
     "metadata": {},
     "source": [
      "Arctan of the logarithmic derivatives:"
     ]
    },
    {
     "cell_type": "code",
     "collapsed": false,
     "input": [
      "plotter.plot_atan_logders(show=False)"
     ],
     "language": "python",
     "metadata": {},
     "outputs": []
    },
    {
     "cell_type": "heading",
     "metadata": {},
     "source": [
      "Convergence in $G$-space estimated by ONCVPSP:"
     ]
    },
    {
     "cell_type": "code",
     "collapsed": false,
     "input": [
      "plotter.plot_ene_vs_ecut(show=False)"
     ],
     "language": "python",
     "metadata": {},
     "outputs": []
    },
    {
     "cell_type": "heading",
     "metadata": {},
     "source": [
      "Projectors:"
     ]
    },
    {
     "cell_type": "code",
     "collapsed": false,
     "input": [
      "plotter.plot_projectors(show=False)"
     ],
     "language": "python",
     "metadata": {},
     "outputs": []
    },
    {
     "cell_type": "heading",
     "metadata": {},
     "source": [
      "Core/Valence/Model charge densities:"
     ]
    },
    {
     "cell_type": "code",
     "collapsed": false,
     "input": [
      "plotter.plot_densities(show=False)"
     ],
     "language": "python",
     "metadata": {},
     "outputs": []
    },
    {
     "cell_type": "heading",
     "metadata": {},
     "source": [
      "Local potential and $l$-dependent potentials:"
     ]
    },
    {
     "cell_type": "code",
     "collapsed": false,
     "input": [
      "plotter.plot_potentials(show=False)"
     ],
     "language": "python",
     "metadata": {},
     "outputs": []
    },
    {
     "cell_type": "heading",
     "metadata": {},
     "source": [
      "1-st order derivative of $v_l$ and $v_{loc}$ computed via finite differences:"
     ]
    },
    {
     "cell_type": "code",
     "collapsed": false,
     "input": [
      "plotter.plot_der_potentials(order=1, show=False)"
     ],
     "language": "python",
     "metadata": {},
     "outputs": []
    },
    {
     "cell_type": "heading",
     "metadata": {},
     "source": [
      "2-nd order derivative of $v_l$ and $v_{loc}$ computed via finite differences:"
     ]
    },
    {
     "cell_type": "code",
     "collapsed": false,
     "input": [
      "plotter.plot_der_potentials(order=2, show=False)"
     ],
     "language": "python",
     "metadata": {},
     "outputs": []
    },
    {
     "cell_type": "heading",
     "metadata": {},
     "source": [
      "Convergence of the total energy:"
     ]
    },
    {
     "cell_type": "code",
     "collapsed": false,
     "input": [
      "# Convergence of the total energy (computed from the deltafactor runs with Wien2K equilibrium volume)\n",
      "report.plot_etotal_vs_ecut(show=False)"
     ],
     "language": "python",
     "metadata": {},
     "outputs": []
    },
    {
     "cell_type": "heading",
     "metadata": {},
     "source": [
      "Convergence of the deltafactor results:"
     ]
    },
    {
     "cell_type": "code",
     "collapsed": false,
     "input": [
      "report.plot_deltafactor_convergence(what=(\"dfact_meV\", \"dfactprime_meV\"), show=False)"
     ],
     "language": "python",
     "metadata": {},
     "outputs": []
    },
    {
     "cell_type": "heading",
     "metadata": {},
     "source": [
      "Convergence of $\\Delta v_0$, $\\Delta b_0$, and $\\Delta b_1$ (deltafactor tests)"
     ]
    },
    {
     "cell_type": "code",
     "collapsed": false,
     "input": [
      "# Here we plot the difference wrt Wien2k results.\n",
      "report.plot_deltafactor_convergence(what=(\"-dfact_meV\", \"-dfactprime_meV\"), show=False)"
     ],
     "language": "python",
     "metadata": {},
     "outputs": []
    },
    {
     "cell_type": "heading",
     "metadata": {},
     "source": [
      "deltafactor EOS for the different cutoff energies:"
     ]
    },
    {
     "cell_type": "code",
     "collapsed": false,
     "input": [
      "report.plot_deltafactor_eos(show=False)"
     ],
     "language": "python",
     "metadata": {},
     "outputs": []
    },
    {
     "cell_type": "heading",
     "metadata": {},
     "source": [
      "Convergence of the GBRV lattice parameters:"
     ]
    },
    {
     "cell_type": "code",
     "collapsed": false,
     "input": [
      "report.plot_gbrv_convergence(show=False)"
     ],
     "language": "python",
     "metadata": {},
     "outputs": []
    },
    {
     "cell_type": "heading",
     "metadata": {},
     "source": [
      "GBRV EOS for the FCC structure:"
     ]
    },
    {
     "cell_type": "code",
     "collapsed": false,
     "input": [
      "report.plot_gbrv_eos(struct_type=\"fcc\", show=False)"
     ],
     "language": "python",
     "metadata": {},
     "outputs": []
    },
    {
     "cell_type": "heading",
     "metadata": {},
     "source": [
      "GBRV EOS for the BCC structure:"
     ]
    },
    {
     "cell_type": "code",
     "collapsed": false,
     "input": [
      "report.plot_gbrv_eos(struct_type=\"bcc\", show=False)"
     ],
     "language": "python",
     "metadata": {},
     "outputs": []
    }
   ],
   "metadata": {}
  }
 ]
}