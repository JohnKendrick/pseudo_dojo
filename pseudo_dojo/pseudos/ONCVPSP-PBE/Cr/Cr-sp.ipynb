{
 "metadata": {
  "signature": "sha256:3b427e117822e429bebce7f91b95f76ffe46421792ce207e3e4658f15dc9975a"
 },
 "nbformat": 3,
 "nbformat_minor": 0,
 "worksheets": [
  {
   "cells": [
    {
     "cell_type": "heading",
     "level": 1,
     "metadata": {},
     "source": [
      "This is an auto-generated notebook for Cr-sp.psp8"
     ]
    },
    {
     "cell_type": "code",
     "collapsed": false,
     "input": [
      "from __future__ import print_function\n",
      "%matplotlib inline\n",
      "import mpld3\n",
      "from mpld3 import plugins as plugs\n",
      "plugs.DEFAULT_PLUGINS = [plugs.Reset(), plugs.Zoom(), plugs.BoxZoom(), plugs.MousePosition()]\n",
      "mpld3.enable_notebook()\n",
      "import seaborn as sns\n",
      "#sns.set(style=\"dark\", palette=\"Set2\")\n",
      "sns.set(style='ticks', palette='Set2')"
     ],
     "language": "python",
     "metadata": {},
     "outputs": [],
     "prompt_number": 1
    },
    {
     "cell_type": "code",
     "collapsed": false,
     "input": [
      "# Construct the pseudo object and get the DojoReport\n",
      "from pymatgen.io.abinitio.pseudos import Pseudo\n",
      "pseudo = Pseudo.from_file('Cr-sp.psp8')\n",
      "report = pseudo.dojo_report"
     ],
     "language": "python",
     "metadata": {},
     "outputs": [],
     "prompt_number": 2
    },
    {
     "cell_type": "heading",
     "level": 1,
     "metadata": {},
     "source": [
      "ONCVPSP Input File:"
     ]
    },
    {
     "cell_type": "code",
     "collapsed": false,
     "input": [
      "input_file = pseudo.filepath.replace(\".psp8\", \".in\") \n",
      "%cat $input_file"
     ],
     "language": "python",
     "metadata": {},
     "outputs": [
      {
       "output_type": "stream",
       "stream": "stdout",
       "text": [
        "# atsym z nc nv iexc psfile\r\n",
        "Cr 24 3 4 4 psp8\r\n",
        "# n l f\r\n",
        "1 0 2.0\r\n",
        "2 0 2.0\r\n",
        "2 1 6.0\r\n",
        "3 0 2.0\r\n",
        "3 1 6.0\r\n",
        "3 2 5.0\r\n",
        "4 0 1.0\r\n",
        "# lmax\r\n",
        "2\r\n",
        "# l rc ep ncon nbas qcut\r\n",
        "0 1.2 0.0 4 8 9.8\r\n",
        "1 1.2 0.0 4 7 10.2\r\n",
        "2 1.5 0.0 4 8 10.0\r\n",
        "# lloc lpopt rc5 dvloc0\r\n",
        "4 5 1.15 0.0\r\n",
        "# l nproj debl\r\n",
        "0 2 1.0\r\n",
        "1 2 1.0\r\n",
        "2 2 1.0\r\n",
        "# icmod fcfact\r\n",
        "1 0.06\r\n",
        "# epsh1 epsh2 depsh\r\n",
        "-18.0 12.0 0.02\r\n",
        "# rlmax drl\r\n",
        "6.0 0.01\r\n",
        " 0\r\n"
       ]
      }
     ]
    },
    {
     "cell_type": "code",
     "collapsed": false,
     "input": [
      "# Get data from the output file\n",
      "from pseudo_dojo.ppcodes.oncvpsp import OncvOutputParser, PseudoGenDataPlotter\n",
      "onc_parser = OncvOutputParser(pseudo.filepath.replace(\".psp8\", \".out\"))\n",
      "# Parse the file and build the plotter\n",
      "onc_parser.scan()\n",
      "plotter = onc_parser.make_plotter()"
     ],
     "language": "python",
     "metadata": {},
     "outputs": []
    },
    {
     "cell_type": "heading",
     "level": 1,
     "metadata": {},
     "source": [
      "AE/PS radial wavefunctions $\\phi(r)$:"
     ]
    },
    {
     "cell_type": "code",
     "collapsed": false,
     "input": [
      "fig = plotter.plot_radial_wfs(show=False)"
     ],
     "language": "python",
     "metadata": {},
     "outputs": []
    },
    {
     "cell_type": "heading",
     "level": 1,
     "metadata": {},
     "source": [
      "Arctan of the logarithmic derivatives:"
     ]
    },
    {
     "cell_type": "code",
     "collapsed": false,
     "input": [
      "fig = plotter.plot_atan_logders(show=False)"
     ],
     "language": "python",
     "metadata": {},
     "outputs": []
    },
    {
     "cell_type": "heading",
     "level": 1,
     "metadata": {},
     "source": [
      "Convergence in $G$-space estimated by ONCVPSP:"
     ]
    },
    {
     "cell_type": "code",
     "collapsed": false,
     "input": [
      "fig = plotter.plot_ene_vs_ecut(show=False)"
     ],
     "language": "python",
     "metadata": {},
     "outputs": []
    },
    {
     "cell_type": "heading",
     "level": 1,
     "metadata": {},
     "source": [
      "Projectors:"
     ]
    },
    {
     "cell_type": "code",
     "collapsed": false,
     "input": [
      "fig = plotter.plot_projectors(show=False)"
     ],
     "language": "python",
     "metadata": {},
     "outputs": []
    },
    {
     "cell_type": "heading",
     "level": 1,
     "metadata": {},
     "source": [
      "Core/Valence/Model charge densities:"
     ]
    },
    {
     "cell_type": "code",
     "collapsed": false,
     "input": [
      "fig = plotter.plot_densities(show=False)"
     ],
     "language": "python",
     "metadata": {},
     "outputs": []
    },
    {
     "cell_type": "heading",
     "level": 1,
     "metadata": {},
     "source": [
      "Local potential and $l$-dependent potentials:"
     ]
    },
    {
     "cell_type": "code",
     "collapsed": false,
     "input": [
      "fig = plotter.plot_potentials(show=False)"
     ],
     "language": "python",
     "metadata": {},
     "outputs": []
    },
    {
     "cell_type": "heading",
     "level": 1,
     "metadata": {},
     "source": [
      "Convergence of the total energy:"
     ]
    },
    {
     "cell_type": "code",
     "collapsed": false,
     "input": [
      "# Convergence of the total energy (computed from the deltafactor runs with Wien2K equilibrium volume)\n",
      "fig = report.plot_etotal_vs_ecut(show=False)"
     ],
     "language": "python",
     "metadata": {},
     "outputs": []
    },
    {
     "cell_type": "heading",
     "level": 1,
     "metadata": {},
     "source": [
      "Convergence of the deltafactor results:"
     ]
    },
    {
     "cell_type": "code",
     "collapsed": false,
     "input": [
      "fig = report.plot_deltafactor_convergence(what=(\"dfact_meV\", \"dfactprime_meV\"), show=False)"
     ],
     "language": "python",
     "metadata": {},
     "outputs": []
    },
    {
     "cell_type": "heading",
     "level": 1,
     "metadata": {},
     "source": [
      "Convergence of $\\Delta v_0$, $\\Delta b_0$, and $\\Delta b_1$ (deltafactor tests)"
     ]
    },
    {
     "cell_type": "code",
     "collapsed": false,
     "input": [
      "# Here we plot the difference wrt Wien2k results.\n",
      "fig = report.plot_deltafactor_convergence(what=(\"-dfact_meV\", \"-dfactprime_meV\"), show=False)"
     ],
     "language": "python",
     "metadata": {},
     "outputs": []
    },
    {
     "cell_type": "heading",
     "level": 1,
     "metadata": {},
     "source": [
      "deltafactor EOS for the different cutoff energies:"
     ]
    },
    {
     "cell_type": "code",
     "collapsed": false,
     "input": [
      "fig = report.plot_deltafactor_eos(show=False)"
     ],
     "language": "python",
     "metadata": {},
     "outputs": []
    },
    {
     "cell_type": "heading",
     "level": 1,
     "metadata": {},
     "source": [
      "Convergence of the GBRV lattice parameters:"
     ]
    },
    {
     "cell_type": "code",
     "collapsed": false,
     "input": [
      "fig = report.plot_gbrv_convergence(show=False)"
     ],
     "language": "python",
     "metadata": {},
     "outputs": []
    },
    {
     "cell_type": "heading",
     "level": 1,
     "metadata": {},
     "source": [
      "GBRV EOS for the FCC structure:"
     ]
    },
    {
     "cell_type": "code",
     "collapsed": false,
     "input": [
      "fig = report.plot_gbrv_eos(struct_type=\"fcc\", show=False)"
     ],
     "language": "python",
     "metadata": {},
     "outputs": []
    },
    {
     "cell_type": "heading",
     "level": 1,
     "metadata": {},
     "source": [
      "GBRV EOS for the BCC structure:"
     ]
    },
    {
     "cell_type": "code",
     "collapsed": false,
     "input": [
      "fig = report.plot_gbrv_eos(struct_type=\"bcc\", show=False)"
     ],
     "language": "python",
     "metadata": {},
     "outputs": []
    }
   ],
   "metadata": {}
  }
 ]
}